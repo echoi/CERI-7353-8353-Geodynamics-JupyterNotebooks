{
 "cells": [
  {
   "cell_type": "code",
   "execution_count": 1,
   "metadata": {
    "collapsed": false
   },
   "outputs": [],
   "source": [
    "# modules for matrix operations\n",
    "import numpy as np\n",
    "import scipy.linalg\n",
    "\n",
    "# modules for visualization\n",
    "import matplotlib.pyplot as plt\n",
    "%matplotlib inline\n",
    "\n",
    "from matplotlib.path import Path\n",
    "import matplotlib.patches as patches\n",
    "# from http://matplotlib.org/users/path_tutorial.html\n",
    "'''\n",
    "verts should look like this:\n",
    "verts = [\n",
    "    (0., 0.), # left, bottom\n",
    "    (0., 1.), # left, top\n",
    "    (1., 1.), # right, top\n",
    "    (1., 0.), # right, bottom\n",
    "    (0., 0.), # ignored\n",
    "    ]\n",
    "''' \n",
    "# codes that specify how to create a polygon path with the above vertices.\n",
    "codes = [Path.MOVETO,\n",
    "         Path.LINETO,\n",
    "         Path.LINETO,\n",
    "         Path.LINETO,\n",
    "         Path.CLOSEPOLY,\n",
    "         ]"
   ]
  },
  {
   "cell_type": "markdown",
   "metadata": {},
   "source": [
    "# Choose an $\\mathbf{F}$ and derive related quantities"
   ]
  },
  {
   "cell_type": "code",
   "execution_count": 2,
   "metadata": {
    "collapsed": false
   },
   "outputs": [
    {
     "name": "stdout",
     "output_type": "stream",
     "text": [
      "Ru= [[-0.15923244  0.98724112]\n",
      " [ 0.98724112  0.15923244]]\n",
      "U= [[ 1.42035335  1.24201302]\n",
      " [ 1.24201302  1.71971034]]\n",
      "F= [[ 1.   1.5]\n",
      " [ 1.6  1.5]]\n",
      "Ru.U= [[ 1.   1.5]\n",
      " [ 1.6  1.5]]\n",
      "V= [[ 1.32162924  1.22608978]\n",
      " [ 1.22608978  1.81843445]]\n",
      "Rv= [[-0.15923244  0.98724112]\n",
      " [ 0.98724112  0.15923244]]\n"
     ]
    }
   ],
   "source": [
    "# Deformation gradient\n",
    "F = np.array([[1.0, 1.5], [1.6, 1.5]])\n",
    "\n",
    "# Right Cauchy-Green tensor\n",
    "C = np.dot(np.transpose(F), F)\n",
    "\n",
    "# Left Cauchy-Green tensor\n",
    "B = np.dot(F, np.transpose(F))\n",
    "\n",
    "# Compute R and U. F = RU. C = F^T.F = U^T.R^T.R.U = U^2 --> U = sqrt(C).\n",
    "U = scipy.linalg.sqrtm(C)\n",
    "Ru = np.dot(F, np.linalg.inv(U))\n",
    "print 'Ru=',Ru\n",
    "print 'U=',U\n",
    "print 'F=',F\n",
    "print 'Ru.U=',np.dot(Ru,U)\n",
    "\n",
    "# Compute V and R. F = VR. B = F.F^T = V.R.R^T.V^T = V^2 --> V = sqrt(B).\n",
    "V = scipy.linalg.sqrtm(B)\n",
    "Rv = np.dot(np.linalg.inv(V), F)\n",
    "print 'V=',V\n",
    "print 'Rv=',Rv\n",
    "#print F\n",
    "#print np.dot(V,R)\n",
    "\n",
    "# C = F^T.F --> E = 0.5*(C-I)\n",
    "E = 0.5*(C - np.eye(2))\n",
    "\n",
    "# \\partial u/\\partial X = F - I.\n",
    "dudX = F - np.eye(2)\n",
    "eps = 0.5 * ( dudX + np.transpose(dudX))"
   ]
  },
  {
   "cell_type": "code",
   "execution_count": 3,
   "metadata": {
    "collapsed": false
   },
   "outputs": [],
   "source": [
    "# Define a set of points in the reference configuration.\n",
    "ref_points = np.array([[0.0, 0.0],[1.0, 0.0],[1.0, 1.0],[0.0,1.0]])\n",
    "num_points = ref_points.shape[0]\n",
    "#print ref_points\n",
    "#print ref_points.shape\n",
    "\n",
    "# create a path for the reference configuration\n",
    "verts = []\n",
    "for i in range(4):\n",
    "    verts.append( (ref_points[i][0],ref_points[i][1]) )\n",
    "verts.append((ref_points[0][0],ref_points[0][1]))\n",
    "ref_polygon = Path(verts, codes)\n",
    "\n",
    "# Create an array for mapped points\n",
    "cur_points = np.zeros((4,2))\n",
    "#print cur_points\n",
    "#print cur_points.shape"
   ]
  },
  {
   "cell_type": "markdown",
   "metadata": {},
   "source": [
    "# Map the points in the reference configuration"
   ]
  },
  {
   "cell_type": "code",
   "execution_count": 4,
   "metadata": {
    "collapsed": false
   },
   "outputs": [],
   "source": [
    "# create a path for F.X\n",
    "for i in range(num_points):\n",
    "    cur_points[i] = np.dot(F, ref_points[i])\n",
    "    verts[i] = (cur_points[i][0], cur_points[i][1])\n",
    "verts[num_points] = (cur_points[0][0], cur_points[0][1])\n",
    "polygon_by_F = Path(verts, codes)"
   ]
  },
  {
   "cell_type": "code",
   "execution_count": 5,
   "metadata": {
    "collapsed": false
   },
   "outputs": [],
   "source": [
    "# create a path for U.X\n",
    "for i in range(num_points):\n",
    "    cur_points[i] = np.dot(U, ref_points[i])\n",
    "    verts[i] = (cur_points[i][0], cur_points[i][1])\n",
    "verts[num_points] = (cur_points[0][0], cur_points[0][1])\n",
    "polygon_by_U = Path(verts, codes)\n",
    "\n",
    "# create a path for Ru.U.X\n",
    "for i in range(num_points):\n",
    "    cur_points[i] = np.dot(Ru, cur_points[i])\n",
    "    verts[i] = (cur_points[i][0],cur_points[i][1])\n",
    "verts[num_points] = (cur_points[0][0],cur_points[0][1])\n",
    "polygon_by_RuU = Path(verts, codes)"
   ]
  },
  {
   "cell_type": "code",
   "execution_count": 6,
   "metadata": {
    "collapsed": false
   },
   "outputs": [],
   "source": [
    "# create a path for Rv.X\n",
    "for i in range(num_points):\n",
    "    cur_points[i] = np.dot(Rv, ref_points[i])\n",
    "    verts[i] = (cur_points[i][0], cur_points[i][1])\n",
    "verts[num_points] = (cur_points[0][0], cur_points[0][1])\n",
    "polygon_by_Rv = Path(verts, codes)\n",
    "\n",
    "# create a path for V.Rv.X\n",
    "for i in range(num_points):\n",
    "    cur_points[i] = np.dot(V, cur_points[i])\n",
    "    verts[i] = (cur_points[i][0],cur_points[i][1])\n",
    "verts[num_points] = (cur_points[0][0],cur_points[0][1])\n",
    "polygon_by_VRv = Path(verts, codes)"
   ]
  },
  {
   "cell_type": "markdown",
   "metadata": {},
   "source": [
    "## Plot the reference and the current configuration."
   ]
  },
  {
   "cell_type": "markdown",
   "metadata": {},
   "source": [
    "I followed http://matplotlib.org/users/path_tutorial.html"
   ]
  },
  {
   "cell_type": "code",
   "execution_count": 17,
   "metadata": {
    "collapsed": false
   },
   "outputs": [
    {
     "data": {
      "image/png": "[encoded data removed]",
      "text/plain": [
       "<matplotlib.figure.Figure at 0x10b71d550>"
      ]
     },
     "metadata": {},
     "output_type": "display_data"
    }
   ],
   "source": [
    "fig = plt.figure()\n",
    "ax = fig.add_subplot(111)\n",
    "\n",
    "patch1 = patches.PathPatch(ref_polygon, facecolor='green', alpha=0.5, lw=2, label='Ref.')\n",
    "patch2 = patches.PathPatch(polygon_by_F, facecolor='red', alpha=0.5, lw=2, label='F')\n",
    "ax.add_patch(patch1)\n",
    "ax.add_patch(patch2)\n",
    "\n",
    "ax.set_xlim(-2,10)\n",
    "ax.set_ylim(-2,10)\n",
    "ax.axis('equal')\n",
    "plt.legend()\n",
    "\n",
    "plt.show(fig)\n",
    "#fig.savefig('F_mapping01.pdf',format='pdf')"
   ]
  },
  {
   "cell_type": "code",
   "execution_count": 18,
   "metadata": {
    "collapsed": false
   },
   "outputs": [
    {
     "data": {
      "image/png": "[encoded data removed]",
      "text/plain": [
       "<matplotlib.figure.Figure at 0x10b5ae810>"
      ]
     },
     "metadata": {},
     "output_type": "display_data"
    }
   ],
   "source": [
    "# Modified from http://matplotlib.org/users/path_tutorial.html.\n",
    "fig = plt.figure()\n",
    "ax = fig.add_subplot(111)\n",
    "\n",
    "patch1 = patches.PathPatch(ref_polygon, facecolor='green', alpha=0.5, lw=2, label='Ref')\n",
    "patch2 = patches.PathPatch(polygon_by_U, facecolor='orange', alpha=0.5, lw=2, label='U')\n",
    "patch3 = patches.PathPatch(polygon_by_RuU, facecolor='red', alpha=0.5, lw=2, label='RU')\n",
    "ax.add_patch(patch1)\n",
    "ax.add_patch(patch2)\n",
    "ax.add_patch(patch3)\n",
    "\n",
    "ax.set_xlim(-2,10)\n",
    "ax.set_ylim(-2,10)\n",
    "ax.axis('equal')\n",
    "\n",
    "plt.legend()\n",
    "plt.show(fig)\n",
    "#fig.savefig('F_mapping01.pdf',format='pdf')"
   ]
  },
  {
   "cell_type": "code",
   "execution_count": 19,
   "metadata": {
    "collapsed": false
   },
   "outputs": [
    {
     "data": {
      "image/png": "[encoded data removed]",
      "text/plain": [
       "<matplotlib.figure.Figure at 0x10b17e290>"
      ]
     },
     "metadata": {},
     "output_type": "display_data"
    }
   ],
   "source": [
    "# Modified from http://matplotlib.org/users/path_tutorial.html.\n",
    "fig = plt.figure()\n",
    "ax = fig.add_subplot(111)\n",
    "\n",
    "patch1 = patches.PathPatch(ref_polygon, facecolor='green', alpha=0.5, lw=2, label='Ref')\n",
    "patch2 = patches.PathPatch(polygon_by_Rv, facecolor='blue', alpha=0.5, lw=2, label='R')\n",
    "patch3 = patches.PathPatch(polygon_by_VRv, facecolor='red', alpha=0.5, lw=2, label='VR')\n",
    "ax.add_patch(patch1)\n",
    "ax.add_patch(patch2)\n",
    "ax.add_patch(patch3)\n",
    "\n",
    "ax.set_xlim(-2,10)\n",
    "ax.set_ylim(-2,10)\n",
    "ax.axis('equal')\n",
    "\n",
    "plt.legend()\n",
    "plt.show(fig)\n",
    "#fig.savefig('F_mapping01.pdf',format='pdf')"
   ]
  },
  {
   "cell_type": "code",
   "execution_count": 22,
   "metadata": {
    "collapsed": false
   },
   "outputs": [
    {
     "data": {
      "image/png": "[encoded data removed]",
      "text/plain": [
       "<matplotlib.figure.Figure at 0x10ab20750>"
      ]
     },
     "metadata": {},
     "output_type": "display_data"
    }
   ],
   "source": [
    "# Modified from http://matplotlib.org/users/path_tutorial.html.\n",
    "fig = plt.figure()\n",
    "ax = fig.add_subplot(111)\n",
    "\n",
    "patch1 = patches.PathPatch(ref_polygon, facecolor='green', alpha=0.5, lw=2, label='Ref')\n",
    "patch2 = patches.PathPatch(polygon_by_RuU, facecolor='blue', alpha=0.5, lw=2, label='RU')\n",
    "patch3 = patches.PathPatch(polygon_by_VRv, facecolor='red', alpha=0.5, lw=2, label='VR')\n",
    "ax.add_patch(patch1)\n",
    "ax.add_patch(patch2)\n",
    "ax.add_patch(patch3)\n",
    "\n",
    "ax.set_xlim(-2,10)\n",
    "ax.set_ylim(-2,10)\n",
    "ax.axis('equal')\n",
    "\n",
    "plt.legend()\n",
    "plt.show(fig)\n",
    "#fig.savefig('F_mapping01.pdf',format='pdf')"
   ]
  },
  {
   "cell_type": "code",
   "execution_count": null,
   "metadata": {
    "collapsed": true
   },
   "outputs": [],
   "source": []
  }
 ],
 "metadata": {
  "kernelspec": {
   "display_name": "Python 2",
   "language": "python",
   "name": "python2"
  },
  "language_info": {
   "codemirror_mode": {
    "name": "ipython",
    "version": 2
   },
   "file_extension": ".py",
   "mimetype": "text/x-python",
   "name": "python",
   "nbconvert_exporter": "python",
   "pygments_lexer": "ipython2",
   "version": "2.7.10"
  }
 },
 "nbformat": 4,
 "nbformat_minor": 0
}
