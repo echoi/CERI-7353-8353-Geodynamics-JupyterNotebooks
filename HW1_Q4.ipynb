{
 "cells": [
  {
   "cell_type": "code",
   "execution_count": 2,
   "metadata": {
    "collapsed": false
   },
   "outputs": [
    {
     "name": "stdout",
     "output_type": "stream",
     "text": [
      "eps= [[ 0.004  0.     0.002]\n",
      " [ 0.    -0.004  0.001]\n",
      " [ 0.002  0.001  0.006]]\n",
      "omg= [[ 0.    -0.001 -0.002]\n",
      " [ 0.001  0.     0.001]\n",
      " [ 0.002 -0.001  0.   ]]\n",
      "e= [[ 0.006]]\n",
      "dev_strain= [[ 0.002  0.     0.002]\n",
      " [ 0.    -0.006  0.001]\n",
      " [ 0.002  0.001  0.004]]\n",
      "I1= 0.006  I2= -2.1e-05  I3= -8.4e-08\n",
      "Eigenvalues= [ 0.00730045  0.0028036  -0.00410405]\n",
      "Eigenvectors= [[ 0.51677237  0.855742   -0.02553306]\n",
      " [ 0.07546517 -0.07523995 -0.99430577]\n",
      " [ 0.85279031 -0.51190289  0.10346065]]\n"
     ]
    }
   ],
   "source": [
    "import numpy as np\n",
    "\n",
    "# Displacement gradient: \n",
    "dudX = np.matrix([[4,-1,0],[1,-4,2],[4,0,6]]) * 1e-3\n",
    "\n",
    "# small strain and spin tensor: \\epsilon = 1/2 (dudX + dudX^T)\n",
    "eps = 0.5 * ( dudX + np.transpose(dudX))\n",
    "# spin tensor: \\epsilon = 1/2 (dudX - dudX^T)\n",
    "omega = 0.5 * ( dudX - np.transpose(dudX))\n",
    "print 'eps=',eps\n",
    "print 'omg=',omega\n",
    "\n",
    "# volumetric strain and deviatoric strain\n",
    "e = eps.trace()\n",
    "dev_strain = eps - (e[0,0]/3)*np.identity(3)\n",
    "print 'e=',e\n",
    "print 'dev_strain=',dev_strain\n",
    "\n",
    "# Invariants\n",
    "I1 = eps.trace()\n",
    "I2 = 0.5*(eps.trace()**2-(eps*eps).trace())\n",
    "I3 = np.linalg.det(eps)\n",
    "print 'I1=',I1[0,0],' I2=',I2[0,0],' I3=',I3\n",
    "\n",
    "# Eigenvalues and vectors.\n",
    "w,v = np.linalg.eig(eps)\n",
    "print 'Eigenvalues=',w\n",
    "print 'Eigenvectors=', v"
   ]
  },
  {
   "cell_type": "code",
   "execution_count": null,
   "metadata": {
    "collapsed": true
   },
   "outputs": [],
   "source": []
  }
 ],
 "metadata": {
  "kernelspec": {
   "display_name": "Python 2",
   "language": "python",
   "name": "python2"
  },
  "language_info": {
   "codemirror_mode": {
    "name": "ipython",
    "version": 2
   },
   "file_extension": ".py",
   "mimetype": "text/x-python",
   "name": "python",
   "nbconvert_exporter": "python",
   "pygments_lexer": "ipython2",
   "version": "2.7.11"
  }
 },
 "nbformat": 4,
 "nbformat_minor": 0
}
