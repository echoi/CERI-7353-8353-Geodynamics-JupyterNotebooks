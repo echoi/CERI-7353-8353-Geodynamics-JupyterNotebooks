{
 "metadata": {
  "name": "",
  "signature": "sha256:a4725eec1ee3f9a8ce53900bd59f7bde9e5b951e0f9a701ba8717d27da2a3f30"
 },
 "nbformat": 3,
 "nbformat_minor": 0,
 "worksheets": [
  {
   "cells": [
    {
     "cell_type": "heading",
     "level": 1,
     "metadata": {},
     "source": [
      "Problem 1"
     ]
    },
    {
     "cell_type": "heading",
     "level": 2,
     "metadata": {},
     "source": [
      "Some preparations"
     ]
    },
    {
     "cell_type": "code",
     "collapsed": false,
     "input": [
      "# Define four points of a reference configuration.\n",
      "ref_points = np.array([[0.0, 0.0],[1.0, 0.0],[1.0, 1.0],[0.0,1.0]])\n",
      "#print ref_points\n",
      "#print ref_points.shape\n",
      "\n",
      "# Create an array for mapped points.\n",
      "cur_points = np.zeros((4,2))\n",
      "tmp_points = np.zeros((4,2))\n",
      "#print cur_points\n",
      "#print cur_points.shape"
     ],
     "language": "python",
     "metadata": {},
     "outputs": [],
     "prompt_number": 1
    },
    {
     "cell_type": "code",
     "collapsed": false,
     "input": [
      "def create_path( ref_points, cur_points):\n",
      "    # Plot the reference and the current configuration.\n",
      "    # I followed http://matplotlib.org/users/path_tutorial.html\n",
      "\n",
      "    # import necessary modules.\n",
      "    from matplotlib.path import Path\n",
      "\n",
      "    '''\n",
      "    verts should look like this:\n",
      "    verts = [\n",
      "        (0., 0.), # left, bottom\n",
      "        (0., 1.), # left, top\n",
      "        (1., 1.), # right, top\n",
      "        (1., 0.), # right, bottom\n",
      "        (0., 0.), # ignored\n",
      "        ]\n",
      "    ''' \n",
      "    # codes that specify how to create a polygon path with the above vertices.\n",
      "    codes = [Path.MOVETO,\n",
      "             Path.LINETO,\n",
      "             Path.LINETO,\n",
      "             Path.LINETO,\n",
      "             Path.CLOSEPOLY,\n",
      "             ]\n",
      "\n",
      "    # create a path for the reference configuration\n",
      "    verts = []\n",
      "    for i in range(4):\n",
      "        verts.append( (ref_points[i][0],ref_points[i][1]) )\n",
      "    verts.append((ref_points[0][0],ref_points[0][1]))\n",
      "    path1 = Path(verts, codes)\n",
      "\n",
      "    # create a path for the current configuration\n",
      "    verts = []\n",
      "    for i in range(4):\n",
      "        verts.append( (cur_points[i][0],cur_points[i][1]) )\n",
      "    verts.append((cur_points[0][0],cur_points[0][1]))\n",
      "    path2 = Path(verts, codes)\n",
      "    \n",
      "    return path1, path2"
     ],
     "language": "python",
     "metadata": {},
     "outputs": [],
     "prompt_number": 2
    },
    {
     "cell_type": "code",
     "collapsed": false,
     "input": [
      "def plot_configurations( path1, path2, fname ):\n",
      "    # Modified from http://matplotlib.org/users/path_tutorial.html.\n",
      "    import matplotlib.pyplot as plt\n",
      "    import matplotlib.patches as patches\n",
      "\n",
      "    fig = plt.figure()\n",
      "    ax = fig.add_subplot(111)\n",
      "\n",
      "    patch1 = patches.PathPatch(path1, facecolor='green', alpha=0.5, lw=2)\n",
      "    patch2 = patches.PathPatch(path2, facecolor='orange', alpha=0.5, lw=2)\n",
      "    ax.add_patch(patch1)\n",
      "    ax.add_patch(patch2)\n",
      "\n",
      "    ax.set_xlim(-2,10)\n",
      "    ax.set_ylim(-2,10)\n",
      "    ax.axis('equal')\n",
      "\n",
      "    plt.show(fig)\n",
      "    fig.savefig(fname,format='pdf')"
     ],
     "language": "python",
     "metadata": {},
     "outputs": [],
     "prompt_number": 3
    },
    {
     "cell_type": "code",
     "collapsed": false,
     "input": [
      "import numpy as np\n",
      "import scipy.linalg\n",
      "\n",
      "# Deformation gradient\n",
      "F = np.array([[1.0, 1.5], [1.6, 1.5]])\n",
      "\n",
      "# Right Cauchy-Green tensor\n",
      "C = np.dot(np.transpose(F), F)\n",
      "\n",
      "# Left Cauchy-Green tensor\n",
      "B = np.dot(F, np.transpose(F))\n",
      "\n",
      "# Compute R and U. F = RU. C = F^T.F = U^T.R^T.R.U = U^2 --> U = sqrt(C).\n",
      "U = scipy.linalg.sqrtm(C)\n",
      "Ru = np.dot(F, np.linalg.inv(U))\n",
      "#print Ru\n",
      "#print U\n",
      "#print F\n",
      "#print np.dot(R,U)\n",
      "\n",
      "# Compute V and R. F = VR. B = F.F^T = V.R.R^T.V^T = V^2 --> V = sqrt(B).\n",
      "V = scipy.linalg.sqrtm(B)\n",
      "Rv = np.dot(np.linalg.inv(V), F)\n",
      "#print V\n",
      "#print Rv\n",
      "#print F\n",
      "#print np.dot(V,R)\n",
      "\n",
      "# C = F^T.F --> E = 0.5*(C-I)\n",
      "E = 0.5*(C - np.eye(2))\n",
      "\n",
      "# \\partial u/\\partial X = F - I.\n",
      "dudX = F - np.eye(2)\n",
      "eps = 0.5 * ( dudX + np.transpose(dudX))"
     ],
     "language": "python",
     "metadata": {},
     "outputs": [],
     "prompt_number": 4
    },
    {
     "cell_type": "heading",
     "level": 2,
     "metadata": {},
     "source": [
      "1. F"
     ]
    },
    {
     "cell_type": "code",
     "collapsed": false,
     "input": [
      "# Do the mapping using the dot operator of numpy, \n",
      "# which corresonds to matrix-vector multiplication in our case.\n",
      "for i in range(ref_points.shape[0]):\n",
      "    cur_points[i] = np.dot(F, ref_points[i])\n",
      "#print cur_points\n",
      "path1, path2 = create_path( ref_points, cur_points )\n",
      "plot_configurations( path1, path2, 'F_mapping.pdf' )"
     ],
     "language": "python",
     "metadata": {},
     "outputs": [
      {
       "metadata": {},
       "output_type": "display_data",
       "png": "[encoded data removed]",
       "text": [
        "<matplotlib.figure.Figure at 0x10a418f90>"
       ]
      }
     ],
     "prompt_number": 5
    },
    {
     "cell_type": "heading",
     "level": 2,
     "metadata": {},
     "source": [
      "2. U and RU"
     ]
    },
    {
     "cell_type": "code",
     "collapsed": false,
     "input": [
      "# Do the mapping using the dot operator of numpy, \n",
      "# which corresonds to matrix-vector multiplication in our case.\n",
      "for i in range(ref_points.shape[0]):\n",
      "    cur_points[i] = np.dot(U, ref_points[i])\n",
      "#print cur_points\n",
      "path1, path2 = create_path( ref_points, cur_points )\n",
      "plot_configurations( path1, path2, 'U_mapping.pdf' )"
     ],
     "language": "python",
     "metadata": {},
     "outputs": [
      {
       "metadata": {},
       "output_type": "display_data",
       "png": "[encoded data removed]",
       "text": [
        "<matplotlib.figure.Figure at 0x10a4519d0>"
       ]
      }
     ],
     "prompt_number": 6
    },
    {
     "cell_type": "code",
     "collapsed": false,
     "input": [
      "tmp = cur_points\n",
      "for i in range(ref_points.shape[0]):\n",
      "    cur_points[i] = np.dot(Ru, tmp[i])\n",
      "#print cur_points\n",
      "path1, path2 = create_path( ref_points, cur_points )\n",
      "plot_configurations( path1, path2, 'RU_mapping.pdf' )"
     ],
     "language": "python",
     "metadata": {},
     "outputs": [
      {
       "metadata": {},
       "output_type": "display_data",
       "png": "[encoded data removed]",
       "text": [
        "<matplotlib.figure.Figure at 0x10a437290>"
       ]
      }
     ],
     "prompt_number": 7
    },
    {
     "cell_type": "heading",
     "level": 2,
     "metadata": {},
     "source": [
      "3. R and VR"
     ]
    },
    {
     "cell_type": "code",
     "collapsed": false,
     "input": [
      "for i in range(ref_points.shape[0]):\n",
      "    cur_points[i] = np.dot(Rv, ref_points[i])\n",
      "#print cur_points\n",
      "path1, path2 = create_path( ref_points, cur_points )\n",
      "plot_configurations( path1, path2, 'Rv_mapping.pdf' )"
     ],
     "language": "python",
     "metadata": {},
     "outputs": [
      {
       "metadata": {},
       "output_type": "display_data",
       "png": "[encoded data removed]",
       "text": [
        "<matplotlib.figure.Figure at 0x10a434810>"
       ]
      }
     ],
     "prompt_number": 8
    },
    {
     "cell_type": "code",
     "collapsed": false,
     "input": [
      "tmp = cur_points\n",
      "for i in range(ref_points.shape[0]):\n",
      "    cur_points[i] = np.dot(V, tmp[i])\n",
      "#print cur_points\n",
      "path1, path2 = create_path( ref_points, cur_points )\n",
      "plot_configurations( path1, path2, 'VR_mapping.pdf' )"
     ],
     "language": "python",
     "metadata": {},
     "outputs": [
      {
       "metadata": {},
       "output_type": "display_data",
       "png": "[encoded data removed]",
       "text": [
        "<matplotlib.figure.Figure at 0x10a423310>"
       ]
      }
     ],
     "prompt_number": 9
    },
    {
     "cell_type": "heading",
     "level": 2,
     "metadata": {},
     "source": [
      "4. E and $\\epsilon$"
     ]
    },
    {
     "cell_type": "code",
     "collapsed": false,
     "input": [
      "for i in range(ref_points.shape[0]):\n",
      "    cur_points[i] = np.dot(E, ref_points[i])\n",
      "#print cur_points\n",
      "path1, path2 = create_path( ref_points, cur_points )\n",
      "plot_configurations( path1, path2, 'E_mapping.pdf' )"
     ],
     "language": "python",
     "metadata": {},
     "outputs": [
      {
       "metadata": {},
       "output_type": "display_data",
       "png": "[encoded data removed]",
       "text": [
        "<matplotlib.figure.Figure at 0x10a427890>"
       ]
      }
     ],
     "prompt_number": 10
    },
    {
     "cell_type": "code",
     "collapsed": false,
     "input": [
      "for i in range(ref_points.shape[0]):\n",
      "    cur_points[i] = np.dot(eps, ref_points[i])\n",
      "#print cur_points\n",
      "path1, path2 = create_path( ref_points, cur_points )\n",
      "plot_configurations( path1, path2, 'e_mapping.pdf' )"
     ],
     "language": "python",
     "metadata": {},
     "outputs": [
      {
       "metadata": {},
       "output_type": "display_data",
       "png": "[encoded data removed]",
       "text": [
        "<matplotlib.figure.Figure at 0x10a47d650>"
       ]
      }
     ],
     "prompt_number": 11
    },
    {
     "cell_type": "heading",
     "level": 1,
     "metadata": {},
     "source": [
      "Problem 2"
     ]
    },
    {
     "cell_type": "markdown",
     "metadata": {},
     "source": [
      "\\begin{align*}\n",
      "I_{1} &= \\epsilon_{11} + \\epsilon_{22} + \\epsilon_{33} \\\\\n",
      "I_{2} &= \\epsilon_{11}\\epsilon_{22} + \\epsilon_{22}\\epsilon_{33} + \\epsilon_{33}\\epsilon_{11} - \n",
      "\\epsilon_{12}^{2} - \\epsilon_{23}^{2} - \\epsilon_{13}^{2} \\\\\n",
      "I_{3} &= \\det(\\boldsymbol{\\epsilon}) = \\ldots.\n",
      "\\end{align*}\n",
      "\n",
      "\\begin{align*}\n",
      "J_{1} &= 0 \\\\\n",
      "J_{2} &= \\frac{1}{3}I_{1}^{2} - I_{2} \\\\\n",
      "J_{3} &= \\frac{2}{27}I_{1}^{3} - \\frac{1}{3}I_{1}I_{2} + I_{3}\n",
      "\\end{align*}\n"
     ]
    },
    {
     "cell_type": "heading",
     "level": 1,
     "metadata": {},
     "source": [
      "Problem 3"
     ]
    },
    {
     "cell_type": "code",
     "collapsed": false,
     "input": [
      "dudX = 1e-3*np.array([[4,-1,0],[1,-4,2],[4,0,6]])\n",
      "print dudX"
     ],
     "language": "python",
     "metadata": {},
     "outputs": [
      {
       "output_type": "stream",
       "stream": "stdout",
       "text": [
        "[[ 0.004 -0.001  0.   ]\n",
        " [ 0.001 -0.004  0.002]\n",
        " [ 0.004  0.     0.006]]\n"
       ]
      }
     ],
     "prompt_number": 12
    },
    {
     "cell_type": "code",
     "collapsed": false,
     "input": [
      "eps = 0.5*(dudX+np.transpose(dudX))\n",
      "omg = 0.5*(dudX-np.transpose(dudX))\n",
      "print eps\n",
      "print omg"
     ],
     "language": "python",
     "metadata": {},
     "outputs": [
      {
       "output_type": "stream",
       "stream": "stdout",
       "text": [
        "[[ 0.004  0.     0.002]\n",
        " [ 0.    -0.004  0.001]\n",
        " [ 0.002  0.001  0.006]]\n",
        "[[ 0.    -0.001 -0.002]\n",
        " [ 0.001  0.     0.001]\n",
        " [ 0.002 -0.001  0.   ]]\n"
       ]
      }
     ],
     "prompt_number": 13
    },
    {
     "cell_type": "code",
     "collapsed": false,
     "input": [
      "eps_vol = np.trace(eps)\n",
      "eps_dev = eps - (eps_vol/3) * np.eye(3) \n",
      "print eps_vol\n",
      "print eps_dev"
     ],
     "language": "python",
     "metadata": {},
     "outputs": [
      {
       "output_type": "stream",
       "stream": "stdout",
       "text": [
        "0.006\n",
        "[[ 0.002  0.     0.002]\n",
        " [ 0.    -0.006  0.001]\n",
        " [ 0.002  0.001  0.004]]\n"
       ]
      }
     ],
     "prompt_number": 14
    },
    {
     "cell_type": "code",
     "collapsed": false,
     "input": [
      "from numpy import linalg as LA\n",
      "w, v = LA.eig(eps)\n",
      "print w; v"
     ],
     "language": "python",
     "metadata": {},
     "outputs": [
      {
       "output_type": "stream",
       "stream": "stdout",
       "text": [
        "[ 0.00730045  0.0028036  -0.00410405]\n"
       ]
      },
      {
       "metadata": {},
       "output_type": "pyout",
       "prompt_number": 15,
       "text": [
        "array([[ 0.51677237,  0.855742  , -0.02553306],\n",
        "       [ 0.07546517, -0.07523995, -0.99430577],\n",
        "       [ 0.85279031, -0.51190289,  0.10346065]])"
       ]
      }
     ],
     "prompt_number": 15
    },
    {
     "cell_type": "code",
     "collapsed": false,
     "input": [
      "I1 = eps_vol\n",
      "I2 = w[0]*w[1] + w[1]*w[2] + w[2]*w[0]\n",
      "I3 = w[0]*w[1]*w[2]\n",
      "\n",
      "print I1, I2, I3"
     ],
     "language": "python",
     "metadata": {},
     "outputs": [
      {
       "output_type": "stream",
       "stream": "stdout",
       "text": [
        "0.006 -2.1e-05 -8.4e-08\n"
       ]
      }
     ],
     "prompt_number": 16
    },
    {
     "cell_type": "heading",
     "level": 1,
     "metadata": {},
     "source": [
      "Problem 4"
     ]
    },
    {
     "cell_type": "heading",
     "level": 1,
     "metadata": {},
     "source": [
      "Problem 5"
     ]
    },
    {
     "cell_type": "markdown",
     "metadata": {},
     "source": [
      "\n",
      "\\begin{align*}\n",
      "      \\sigma^{\\prime}_{11} &= \\sigma_{11}\\cos^{2}\\theta+\\sigma_{22}\\sin^{2}\\theta+\\sigma_{12}\\sin{2\\theta} \\\\\n",
      "      \\sigma^{\\prime}_{22} &= \\sigma_{11}\\sin^{2}\\theta+\\sigma_{22}\\cos^{2}\\theta-\\sigma_{12}\\sin{2\\theta} \\\\\n",
      "      \\sigma^{\\prime}_{12} &= (\\sigma_{22}-\\sigma_{11})\\sin\\theta\\cos\\theta+\\sigma_{12}\\cos{2\\theta}\n",
      "\\end{align*}"
     ]
    },
    {
     "cell_type": "heading",
     "level": 2,
     "metadata": {},
     "source": [
      "1) $\\sigma^{\\prime}_{12}=0$."
     ]
    },
    {
     "cell_type": "markdown",
     "metadata": {},
     "source": [
      "\n",
      "\\begin{align*}\n",
      "\\frac{(\\sigma_{22}-\\sigma_{11})}{2}\\sin{2\\theta} + \\sigma_{12}\\cos{2\\theta} = 0.\\\\\n",
      "\\therefore \\tan{2\\theta} = \\frac{2\\sigma_{12}}{\\sigma_{11}-\\sigma_{22}}\n",
      "\\end{align*}\n"
     ]
    },
    {
     "cell_type": "heading",
     "level": 2,
     "metadata": {},
     "source": [
      "2-1) $\\sigma^{\\prime}_{11}=0$."
     ]
    },
    {
     "cell_type": "markdown",
     "metadata": {},
     "source": [
      "\n",
      "\\begin{align*}\n",
      "\\sigma_{11}\\cos^{2}\\theta+\\sigma_{22}\\sin^{2}\\theta+\\sigma_{12}\\sin{2\\theta} = 0.\n",
      "\\end{align*}\n",
      "\n",
      "Using $\\cos^{2}\\theta = \\frac{1}{2}(1+\\cos{2\\theta})$ and $\\sin^{2}\\theta = \\frac{1}{2}(1-\\cos{2\\theta})$, we get\n",
      "\\begin{align*}\n",
      "&\\sigma_{11}\\frac{1}{2}(1+\\cos{2\\theta}) +\\sigma_{22}\\frac{1}{2}(1-\\cos{2\\theta})+\\sigma_{12}\\sin{2\\theta} \\\\\n",
      "=&\\frac{\\sigma_{11}+\\sigma_{22}}{2} + \\frac{\\sigma_{11}-\\sigma_{22}}{2}\\cos{2\\theta}+\\sigma_{12}\\sin{2\\theta} \\\\\n",
      "=&-p + R\\cos{2\\beta}\\cos{2\\theta} + R\\sin{2\\beta}\\sin{2\\theta} = 0.\n",
      "\\end{align*}\n",
      "\n",
      "Using a trigonometric identity, we finally get\n",
      "\\begin{align*}\n",
      "R\\cos(2\\theta-2\\beta)=p \\\\\n",
      "\\cos(2\\theta-2\\beta) = \\frac{p}{R}.\n",
      "\\end{align*}\n",
      "\n",
      "So, if $-R \\le p \\le R$, $\\theta$ that makes $\\sigma^{\\prime}_{11}$ zero exists and is given as\n",
      "\\begin{equation*}\n",
      "\\theta = \\beta + \\frac{1}{2}\\cos^{-1} \\left( \\frac{p}{R} \\right)\n",
      "\\end{equation*}"
     ]
    },
    {
     "cell_type": "heading",
     "level": 2,
     "metadata": {},
     "source": [
      "2-2) $\\sigma^{\\prime}_{22}=0$."
     ]
    },
    {
     "cell_type": "markdown",
     "metadata": {},
     "source": [
      "It goes similarly with 2-1).\n",
      "\\begin{align*}\n",
      "&\\sigma_{11}\\frac{1}{2}(1-\\cos{2\\theta}) +\\sigma_{22}\\frac{1}{2}(1+\\cos{2\\theta})+\\sigma_{12}\\sin{2\\theta} \\\\\n",
      "=&\\frac{\\sigma_{11}+\\sigma_{22}}{2} - \\left( \\frac{\\sigma_{11}-\\sigma_{22}}{2}\\right) \\cos{2\\theta}+\\sigma_{12}\\sin{2\\theta} \\\\\n",
      "=&-p - R \\left( \\cos{2\\beta}\\cos{2\\theta} - \\sin{2\\beta}\\sin{2\\theta} \\right) = 0.\n",
      "\\end{align*}\n",
      "\n",
      "\\begin{align*}\n",
      "\\cos(2\\theta+2\\beta) = -\\frac{p}{R}.\n",
      "\\end{align*}\n",
      "\n",
      "Again, if $-R \\le p \\le R$, $\\theta$ that makes $\\sigma^{\\prime}_{22}$ zero exists and is given as\n",
      "\\begin{equation*}\n",
      "\\theta = -\\beta + \\frac{1}{2}\\cos^{-1} \\left( -\\frac{p}{R} \\right)\n",
      "\\end{equation*}"
     ]
    },
    {
     "cell_type": "heading",
     "level": 2,
     "metadata": {},
     "source": [
      "3-1) $\\sigma^{\\prime}_{11}$ and $\\sigma^{\\prime}_{22}$ maximized (in terms of magnitude)"
     ]
    },
    {
     "cell_type": "markdown",
     "metadata": {},
     "source": [
      "when $\\partial \\sigma^{\\prime}_{11}/\\partial \\theta=0$ or equivalently, $\\sigma^{\\prime}_{12}=0$."
     ]
    },
    {
     "cell_type": "heading",
     "level": 2,
     "metadata": {},
     "source": [
      "3-2) $\\sigma^{\\prime}_{12}$ maximized (in mag.)"
     ]
    },
    {
     "cell_type": "markdown",
     "metadata": {},
     "source": [
      "at $\\theta$ that satisfies \n",
      "\\begin{equation*}\n",
      "\\tan{2\\theta}=\\frac{\\sigma_{11}-\\sigma_{22}}{2\\sigma_{12}}.\n",
      "\\end{equation*}"
     ]
    },
    {
     "cell_type": "heading",
     "level": 1,
     "metadata": {},
     "source": [
      "Problem 6"
     ]
    },
    {
     "cell_type": "heading",
     "level": 2,
     "metadata": {},
     "source": [
      "1) Problem 2-20 of T&S"
     ]
    },
    {
     "cell_type": "markdown",
     "metadata": {},
     "source": [
      "trivial."
     ]
    },
    {
     "cell_type": "heading",
     "level": 2,
     "metadata": {},
     "source": [
      "2) Problem 2-34 of T&S"
     ]
    },
    {
     "cell_type": "code",
     "collapsed": false,
     "input": [
      "# lat, lon of three monuments\n",
      "R = 6378.1 # km.\n",
      "dist_factor = np.pi*R/180.0\n",
      "\n",
      "A = np.array([38.3137, -123.0689])\n",
      "B = np.array([38.4442, -122.1953])\n",
      "C = np.array([38.7778, -122.5758])\n",
      "\n",
      "# distance pairs: [NS, EW]\n",
      "def dist_two_points( A, B ):\n",
      "    phiAB = 0.5*(A[0]+B[0])*np.pi/180.0\n",
      "    return np.array([abs(A[0]-B[0])*dist_factor, abs(A[1]-B[1])*np.cos(phiAB)*dist_factor])"
     ],
     "language": "python",
     "metadata": {},
     "outputs": [],
     "prompt_number": 17
    },
    {
     "cell_type": "code",
     "collapsed": false,
     "input": [
      "from IPython.display import SVG\n",
      "SVG(filename='HW1_2014_Prob6-2.svg') # If not displayed, change the path appropriately."
     ],
     "language": "python",
     "metadata": {},
     "outputs": [
      {
       "ename": "IOError",
       "evalue": "[Errno 2] No such file or directory: u'HW1_2014_Prob6-2.svg'",
       "output_type": "pyerr",
       "traceback": [
        "\u001b[0;31m---------------------------------------------------------------------------\u001b[0m\n\u001b[0;31mIOError\u001b[0m                                   Traceback (most recent call last)",
        "\u001b[0;32m<ipython-input-18-c6abe074e386>\u001b[0m in \u001b[0;36m<module>\u001b[0;34m()\u001b[0m\n\u001b[1;32m      1\u001b[0m \u001b[0;32mfrom\u001b[0m \u001b[0mIPython\u001b[0m\u001b[0;34m.\u001b[0m\u001b[0mdisplay\u001b[0m \u001b[0;32mimport\u001b[0m \u001b[0mSVG\u001b[0m\u001b[0;34m\u001b[0m\u001b[0m\n\u001b[0;32m----> 2\u001b[0;31m \u001b[0mSVG\u001b[0m\u001b[0;34m(\u001b[0m\u001b[0mfilename\u001b[0m\u001b[0;34m=\u001b[0m\u001b[0;34m'HW1_2014_Prob6-2.svg'\u001b[0m\u001b[0;34m)\u001b[0m \u001b[0;31m# If not displayed, change the path appropriately.\u001b[0m\u001b[0;34m\u001b[0m\u001b[0m\n\u001b[0m",
        "\u001b[0;32m/Users/eunseo/anaconda/lib/python2.7/site-packages/IPython/core/display.pyc\u001b[0m in \u001b[0;36m__init__\u001b[0;34m(self, data, url, filename)\u001b[0m\n\u001b[1;32m    303\u001b[0m         \u001b[0mself\u001b[0m\u001b[0;34m.\u001b[0m\u001b[0mfilename\u001b[0m \u001b[0;34m=\u001b[0m \u001b[0mNone\u001b[0m \u001b[0;32mif\u001b[0m \u001b[0mfilename\u001b[0m \u001b[0;32mis\u001b[0m \u001b[0mNone\u001b[0m \u001b[0;32melse\u001b[0m \u001b[0municode\u001b[0m\u001b[0;34m(\u001b[0m\u001b[0mfilename\u001b[0m\u001b[0;34m)\u001b[0m\u001b[0;34m\u001b[0m\u001b[0m\n\u001b[1;32m    304\u001b[0m \u001b[0;34m\u001b[0m\u001b[0m\n\u001b[0;32m--> 305\u001b[0;31m         \u001b[0mself\u001b[0m\u001b[0;34m.\u001b[0m\u001b[0mreload\u001b[0m\u001b[0;34m(\u001b[0m\u001b[0;34m)\u001b[0m\u001b[0;34m\u001b[0m\u001b[0m\n\u001b[0m\u001b[1;32m    306\u001b[0m \u001b[0;34m\u001b[0m\u001b[0m\n\u001b[1;32m    307\u001b[0m     \u001b[0;32mdef\u001b[0m \u001b[0mreload\u001b[0m\u001b[0;34m(\u001b[0m\u001b[0mself\u001b[0m\u001b[0;34m)\u001b[0m\u001b[0;34m:\u001b[0m\u001b[0;34m\u001b[0m\u001b[0m\n",
        "\u001b[0;32m/Users/eunseo/anaconda/lib/python2.7/site-packages/IPython/core/display.pyc\u001b[0m in \u001b[0;36mreload\u001b[0;34m(self)\u001b[0m\n\u001b[1;32m    308\u001b[0m         \u001b[0;34m\"\"\"Reload the raw data from file or URL.\"\"\"\u001b[0m\u001b[0;34m\u001b[0m\u001b[0m\n\u001b[1;32m    309\u001b[0m         \u001b[0;32mif\u001b[0m \u001b[0mself\u001b[0m\u001b[0;34m.\u001b[0m\u001b[0mfilename\u001b[0m \u001b[0;32mis\u001b[0m \u001b[0;32mnot\u001b[0m \u001b[0mNone\u001b[0m\u001b[0;34m:\u001b[0m\u001b[0;34m\u001b[0m\u001b[0m\n\u001b[0;32m--> 310\u001b[0;31m             \u001b[0;32mwith\u001b[0m \u001b[0mopen\u001b[0m\u001b[0;34m(\u001b[0m\u001b[0mself\u001b[0m\u001b[0;34m.\u001b[0m\u001b[0mfilename\u001b[0m\u001b[0;34m,\u001b[0m \u001b[0mself\u001b[0m\u001b[0;34m.\u001b[0m\u001b[0m_read_flags\u001b[0m\u001b[0;34m)\u001b[0m \u001b[0;32mas\u001b[0m \u001b[0mf\u001b[0m\u001b[0;34m:\u001b[0m\u001b[0;34m\u001b[0m\u001b[0m\n\u001b[0m\u001b[1;32m    311\u001b[0m                 \u001b[0mself\u001b[0m\u001b[0;34m.\u001b[0m\u001b[0mdata\u001b[0m \u001b[0;34m=\u001b[0m \u001b[0mf\u001b[0m\u001b[0;34m.\u001b[0m\u001b[0mread\u001b[0m\u001b[0;34m(\u001b[0m\u001b[0;34m)\u001b[0m\u001b[0;34m\u001b[0m\u001b[0m\n\u001b[1;32m    312\u001b[0m         \u001b[0;32melif\u001b[0m \u001b[0mself\u001b[0m\u001b[0;34m.\u001b[0m\u001b[0murl\u001b[0m \u001b[0;32mis\u001b[0m \u001b[0;32mnot\u001b[0m \u001b[0mNone\u001b[0m\u001b[0;34m:\u001b[0m\u001b[0;34m\u001b[0m\u001b[0m\n",
        "\u001b[0;31mIOError\u001b[0m: [Errno 2] No such file or directory: u'HW1_2014_Prob6-2.svg'"
       ]
      }
     ],
     "prompt_number": 18
    },
    {
     "cell_type": "heading",
     "level": 3,
     "metadata": {},
     "source": [
      "(a) line lengths (km) and directions"
     ]
    },
    {
     "cell_type": "code",
     "collapsed": false,
     "input": [
      "L_AB = dist_two_points(A, B)\n",
      "L_BC = dist_two_points(B, C)\n",
      "L_CA = dist_two_points(C, A)\n",
      "#print L_AB\n",
      "#print L_BC\n",
      "#print L_CA\n",
      "print np.linalg.norm(L_AB), np.linalg.norm(L_BC), np.linalg.norm(L_CA)\n",
      "\n",
      "# look at the above figure for the definition of each angle.\n",
      "A_AB = np.arctan2(L_AB[0],L_AB[1])\n",
      "A_BC = np.arctan2(L_BC[1],L_BC[0])\n",
      "A_CA = np.arctan2(L_CA[0],L_CA[1])\n",
      "\n",
      "print A_AB*180.0/np.pi, A_BC*180.0/np.pi, A_CA*180.0/np.pi"
     ],
     "language": "python",
     "metadata": {},
     "outputs": [
      {
       "output_type": "stream",
       "stream": "stdout",
       "text": [
        "77.6067010306 49.7446917254 67.1725584484\n",
        "10.7887740714 41.7092095033 50.2740208142\n"
       ]
      }
     ],
     "prompt_number": 19
    },
    {
     "cell_type": "heading",
     "level": 3,
     "metadata": {},
     "source": [
      "(b) velocity vectors: [N, E]. Units: km/yr."
     ]
    },
    {
     "cell_type": "code",
     "collapsed": false,
     "input": [
      "VA = np.array([33.0e-6, -24.0e-6])\n",
      "VB = np.array([10.0e-6, -13.0e-6])\n",
      "VC = np.array([16.0e-6, -14.0e-6])\n",
      "\n",
      "# magnitude in mm/yr and direction relative to North.\n",
      "print np.linalg.norm(VA)*1e6, np.arctan2(VA[1], VA[0])*180.0/np.pi\n",
      "print np.linalg.norm(VB)*1e6, np.arctan2(VB[1], VB[0])*180.0/np.pi\n",
      "print np.linalg.norm(VC)*1e6, np.arctan2(VC[1], VC[0])*180.0/np.pi"
     ],
     "language": "python",
     "metadata": {},
     "outputs": [
      {
       "output_type": "stream",
       "stream": "stdout",
       "text": [
        "40.8044115262 -36.0273733851\n",
        "16.4012194669 -52.4314079712\n",
        "21.2602916255 -41.1859251657\n"
       ]
      }
     ],
     "prompt_number": 20
    },
    {
     "cell_type": "heading",
     "level": 3,
     "metadata": {},
     "source": [
      "(c) length change rate (km/yr) and strain rate (/yr)"
     ]
    },
    {
     "cell_type": "code",
     "collapsed": false,
     "input": [
      "# Ldot_AB = (VB-VA)[0]*cos(79.2deg) + (VB-VA)[1]*cos(10.8deg).\n",
      "Ldot_AB = (VB-VA)[0]*np.cos(0.5*np.pi-A_AB) + (VB-VA)[1]*np.cos(A_AB)\n",
      "edot_AB = Ldot_AB/np.linalg.norm(L_AB)\n",
      "\n",
      "# Ldot_BC = (VC-VB)[0]*cos(41.7deg) + (VB-VC)[1]*cos(48.3deg).\n",
      "Ldot_BC = (VC-VB)[0]*np.cos(A_BC) + (VB-VC)[1]*np.cos(0.5*np.pi-A_BC)\n",
      "edot_BC = Ldot_BC/np.linalg.norm(L_BC)\n",
      "\n",
      "# Ldot_CA = (VC-VA)[0]*cos(39.7deg) + (VC-VA)[1]*cos(50.3deg).\n",
      "Ldot_CA = (VC-VA)[0]*np.cos(0.5*np.pi-A_CA) + (VC-VA)[1]*np.cos(A_CA)\n",
      "edot_CA = Ldot_CA/np.linalg.norm(L_CA)\n",
      "\n",
      "# print Ldot's and edot's. Units are km/yr and /yr, respectively.\n",
      "print Ldot_AB, Ldot_BC, Ldot_CA\n",
      "print edot_AB, edot_BC, edot_CA"
     ],
     "language": "python",
     "metadata": {},
     "outputs": [
      {
       "output_type": "stream",
       "stream": "stdout",
       "text": [
        "6.50021980269e-06 5.14453783424e-06 -6.68370120657e-06\n",
        "8.37584862694e-08 1.03418830348e-07 -9.95004710398e-08\n"
       ]
      }
     ],
     "prompt_number": 21
    },
    {
     "cell_type": "heading",
     "level": 3,
     "metadata": {},
     "source": [
      "(d) $\\theta_{1}$ ($^{\\circ}$), $\\theta_{2}$ ($^{\\circ}$), $\\dot{\\varepsilon}_{zz}$ (/yr), and $\\dot{\\varepsilon}_{xz}$ (/yr)"
     ]
    },
    {
     "cell_type": "code",
     "collapsed": false,
     "input": [
      "theta1 = A_CA-A_AB # used geometry.\n",
      "theta2 = A_BC + (0.5*np.pi-A_AB)\n",
      "\n",
      "cot1 = 1.0/np.tan(theta1)\n",
      "cot2 = 1.0/np.tan(theta2)\n",
      "sec1 = 1.0/np.cos(theta1)\n",
      "sec2 = 1.0/np.cos(theta2)\n",
      "csc1 = 1.0/np.sin(theta1)\n",
      "csc2 = 1.0/np.sin(theta2)\n",
      "\n",
      "edot_zz = (edot_AB*(cot1-cot2) - edot_BC*sec1*csc1 + edot_CA*sec2*csc2)/(np.tan(theta2)-np.tan(theta1))\n",
      "edot_xz = (edot_AB*(cot1**2 - cot2**2) - edot_BC*csc1**2 + edot_CA*csc2**2)/(2.0*(cot2-cot1))\n",
      "\n",
      "print theta1*180.0/np.pi, theta2*180.0/np.pi\n",
      "print edot_zz, edot_xz"
     ],
     "language": "python",
     "metadata": {},
     "outputs": [
      {
       "output_type": "stream",
       "stream": "stdout",
       "text": [
        "39.4852467428 120.920435432\n",
        "-6.69022390905e-08 8.2095316411e-08\n"
       ]
      }
     ],
     "prompt_number": 22
    },
    {
     "cell_type": "heading",
     "level": 1,
     "metadata": {},
     "source": [
      "Problem 7"
     ]
    },
    {
     "cell_type": "markdown",
     "metadata": {},
     "source": [
      "Straightforward calculations."
     ]
    },
    {
     "cell_type": "heading",
     "level": 1,
     "metadata": {},
     "source": [
      "Problem 8"
     ]
    },
    {
     "cell_type": "markdown",
     "metadata": {},
     "source": [
      "\\begin{align*}\n",
      "\\lambda &= \\frac{\\nu E}{(1+\\nu)(1-2\\nu)} \\\\\n",
      "G &= \\frac{E}{2(1+\\nu)}.\n",
      "\\end{align*}"
     ]
    },
    {
     "cell_type": "code",
     "collapsed": false,
     "input": [
      "a=np.array([[1.0, 2.0], [3.0, 4.0]])"
     ],
     "language": "python",
     "metadata": {},
     "outputs": [],
     "prompt_number": 23
    },
    {
     "cell_type": "code",
     "collapsed": false,
     "input": [
      "a**2"
     ],
     "language": "python",
     "metadata": {},
     "outputs": [
      {
       "metadata": {},
       "output_type": "pyout",
       "prompt_number": 24,
       "text": [
        "array([[  1.,   4.],\n",
        "       [  9.,  16.]])"
       ]
      }
     ],
     "prompt_number": 24
    },
    {
     "cell_type": "code",
     "collapsed": false,
     "input": [
      "np.trace(a**2)"
     ],
     "language": "python",
     "metadata": {},
     "outputs": [
      {
       "metadata": {},
       "output_type": "pyout",
       "prompt_number": 25,
       "text": [
        "17.0"
       ]
      }
     ],
     "prompt_number": 25
    },
    {
     "cell_type": "code",
     "collapsed": false,
     "input": [],
     "language": "python",
     "metadata": {},
     "outputs": []
    }
   ],
   "metadata": {}
  }
 ]
}