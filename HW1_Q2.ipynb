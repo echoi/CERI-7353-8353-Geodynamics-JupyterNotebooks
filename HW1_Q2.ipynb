{
 "cells": [
  {
   "cell_type": "markdown",
   "metadata": {},
   "source": [
    "# Preparations"
   ]
  },
  {
   "cell_type": "code",
   "execution_count": 1,
   "metadata": {
    "collapsed": false
   },
   "outputs": [],
   "source": [
    "# modules for matrix operations\n",
    "import numpy as np\n",
    "import scipy.linalg\n",
    "\n",
    "# modules for visualization\n",
    "import matplotlib.pyplot as plt\n",
    "%matplotlib inline\n",
    "\n",
    "from matplotlib.path import Path\n",
    "import matplotlib.patches as patches\n",
    "# from http://matplotlib.org/users/path_tutorial.html\n",
    "'''\n",
    "verts should look like this:\n",
    "verts = [\n",
    "    (0., 0.), # left, bottom\n",
    "    (0., 1.), # left, top\n",
    "    (1., 1.), # right, top\n",
    "    (1., 0.), # right, bottom\n",
    "    (0., 0.), # ignored\n",
    "    ]\n",
    "''' \n",
    "# codes that specify how to create a polygon path with the above vertices.\n",
    "codes = [Path.MOVETO,\n",
    "         Path.LINETO,\n",
    "         Path.LINETO,\n",
    "         Path.LINETO,\n",
    "         Path.CLOSEPOLY,\n",
    "         ]\n",
    "\n",
    "# to include images\n",
    "from IPython.display import Image"
   ]
  },
  {
   "cell_type": "markdown",
   "metadata": {},
   "source": [
    "# Definition of motion and derived deformation measures"
   ]
  },
  {
   "cell_type": "code",
   "execution_count": 2,
   "metadata": {
    "collapsed": false
   },
   "outputs": [],
   "source": [
    "# motion\n",
    "def motion(X, t):\n",
    "    return np.array([X[0] + X[1]*t, X[1] + 0.5*X[0]*t])\n",
    "\n",
    "# Deformation gradient\n",
    "def F(t):\n",
    "    return np.array([[1.0, t], [0.5*t, 1.0]])\n",
    "\n",
    "# Right Cauchy-Green tensor\n",
    "def C(t):\n",
    "    return np.dot(np.transpose(F(t)), F(t))\n",
    "\n",
    "# Left Cauchy-Green tensor\n",
    "def B(t):\n",
    "    return np.dot(F(t), np.transpose(F(t)))\n",
    "\n",
    "# Compute R and U. F = RU. C = F^T.F = U^T.R^T.R.U = U^2 --> U = sqrt(C).\n",
    "def U(t):\n",
    "    return scipy.linalg.sqrtm(C(t))\n",
    "\n",
    "def Ru(t):\n",
    "    return np.dot(F(t), np.linalg.inv(U(t)))\n",
    "\n",
    "# Compute V and R. F = VR. B = F.F^T = V.R.R^T.V^T = V^2 --> V = sqrt(B).\n",
    "def V(t):\n",
    "    return scipy.linalg.sqrtm(B(t))\n",
    "def Rv(t):\n",
    "    return np.dot(np.linalg.inv(V(t)), F(t))\n",
    "\n",
    "# Lagrange strain: E = 0.5*(C-I)\n",
    "def E(t):\n",
    "    return 0.5*(C(t) - np.eye(2))\n",
    "\n",
    "# Displacement gradient: \\partial u/\\partial X = F - I.\n",
    "def dudX(t):\n",
    "    return F(t) - np.eye(2)\n",
    "# small strain tensor: \\epsilon = 1/2 (dudX + dudX^T)\n",
    "def eps(t):\n",
    "    return 0.5 * ( dudX(t) + np.transpose(dudX(t)))\n",
    "# spin tensor: \\epsilon = 1/2 (dudX - dudX^T)\n",
    "def omega(t):\n",
    "    return 0.5 * ( dudX(t) - np.transpose(dudX(t)))"
   ]
  },
  {
   "cell_type": "code",
   "execution_count": 3,
   "metadata": {
    "collapsed": false
   },
   "outputs": [],
   "source": [
    "# Define a set of points in the reference configuration.\n",
    "ref_points = np.array([[0.0, 0.0],[1.0, 0.0],[1.0, 1.0],[0.0,1.0]])\n",
    "num_points = ref_points.shape[0]\n",
    "\n",
    "# create a path for the reference configuration\n",
    "verts = []\n",
    "for i in range(4):\n",
    "    verts.append( (ref_points[i][0],ref_points[i][1]) )\n",
    "verts.append((ref_points[0][0],ref_points[0][1]))\n",
    "ref_polygon = Path(verts, codes)\n",
    "\n",
    "# Create an array for mapped points\n",
    "cur_points = np.zeros((4,2))"
   ]
  },
  {
   "cell_type": "markdown",
   "metadata": {},
   "source": [
    "# (1) Deformed square at t=1"
   ]
  },
  {
   "cell_type": "markdown",
   "metadata": {},
   "source": [
    "## Map the corner points of the reference configuration by the given motion"
   ]
  },
  {
   "cell_type": "code",
   "execution_count": 4,
   "metadata": {
    "collapsed": false
   },
   "outputs": [],
   "source": [
    "for i in range(num_points):\n",
    "    cur_points[i] = motion(ref_points[i], 1.0)\n",
    "    verts[i] = (cur_points[i][0], cur_points[i][1])\n",
    "verts[num_points] = (cur_points[0][0], cur_points[0][1])\n",
    "polygon_by_motion = Path(verts, codes)"
   ]
  },
  {
   "cell_type": "code",
   "execution_count": 5,
   "metadata": {
    "collapsed": false
   },
   "outputs": [
    {
     "data": {
      "image/png": "[encoded data removed]",
      "text/plain": [
       "<matplotlib.figure.Figure at 0x10a786950>"
      ]
     },
     "metadata": {},
     "output_type": "display_data"
    }
   ],
   "source": [
    "fig = plt.figure()\n",
    "ax = fig.gca()\n",
    "\n",
    "patch1 = patches.PathPatch(ref_polygon, facecolor='green', alpha=0.5, lw=2, label='Reference')\n",
    "patch2 = patches.PathPatch(polygon_by_motion, facecolor='red', alpha=0.5, lw=2, label='Deformed')\n",
    "ax.add_patch(patch1)\n",
    "ax.add_patch(patch2)\n",
    "\n",
    "ax.set_xlim(-2,10)\n",
    "ax.set_ylim(-2,10)\n",
    "ax.axis('equal')\n",
    "plt.legend(loc=2)\n",
    "plt.title(\"Deformed configuration at t=1\")\n",
    "plt.show(fig)\n",
    "#fig.savefig('F_mapping01.pdf',format='pdf')"
   ]
  },
  {
   "cell_type": "markdown",
   "metadata": {},
   "source": [
    "## Deformation gradient and the Green strain"
   ]
  },
  {
   "cell_type": "code",
   "execution_count": 6,
   "metadata": {
    "collapsed": false
   },
   "outputs": [
    {
     "name": "stdout",
     "output_type": "stream",
     "text": [
      "F= [[ 1.   1. ]\n",
      " [ 0.5  1. ]]\n",
      "E= [[ 0.125  0.75 ]\n",
      " [ 0.75   0.5  ]]\n"
     ]
    }
   ],
   "source": [
    "print \"F=\",F(1.0)\n",
    "print \"E=\",E(1.0)"
   ]
  },
  {
   "cell_type": "markdown",
   "metadata": {
    "collapsed": true
   },
   "source": [
    "# (2) Velocity and acceleration at t=1"
   ]
  },
  {
   "cell_type": "markdown",
   "metadata": {},
   "source": [
    "## spatial and material velocities"
   ]
  },
  {
   "cell_type": "markdown",
   "metadata": {},
   "source": [
    "Since $x_{1}=X_{1} + X_{2}t$ and $x_{2}=X_{2} + X_{1}t/2$, \n",
    "\\begin{align*}\n",
    "  X_{1} &= \\frac{2x_{1}-2x_{2}t}{2-t^{2}}, \\\\  X_{2} &= \\frac{2x_{2}-x_{1}t}{2-t^{2}}.\n",
    "\\end{align*}\n",
    "The material velocity $\\mathbf{V}(X_{1},X_{2},t)$ is\n",
    "\\begin{equation}\n",
    "  \\mathbf{V}(X_{1},X_{2},t) = \\frac{\\partial \\mathbf{x}(\\mathbf{X},t)}{\\partial t} = (X_{2}, 0.5X_{1})^{T}.\n",
    "\\end{equation}\n",
    "The spatial velocity $\\mathbf{v}(x_{1},x_{2},t)$ is\n",
    "\\begin{equation}\n",
    "  \\mathbf{v}(x_{1},x_{2},t) = (X_{2}(x_{1},x_{2},t), 0.5X_{1}(x_{1},x_{2},t))^{T} = \n",
    "  ( \\frac{2x_{2}-x_{1}t}{2-t^{2}}, \\frac{x_{1}-x_{2}t}{2-t^{2}} )^{T}\n",
    "\\end{equation}\n",
    "\n",
    "At t=1,\n",
    "\\begin{align*}\n",
    "  \\mathbf{V} &= (X_{2}, 0.5X_{1})^{T} \\\\\n",
    "  \\mathbf{v} &= ( 2x_{2}-x_{1}, x_{1}-x_{2} )^{T}\n",
    "\\end{align*}\n"
   ]
  },
  {
   "cell_type": "markdown",
   "metadata": {},
   "source": [
    "## spatial and material accelerations"
   ]
  },
  {
   "cell_type": "markdown",
   "metadata": {},
   "source": [
    "\\begin{equation*}\n",
    "  \\mathbf{A}(\\mathbf{X},t) = \\frac{\\partial \\mathbf{V}(\\mathbf{X},t)}{\\partial t} = (0, 0)^{T}\n",
    "\\end{equation*}\n",
    "\n",
    "\\begin{equation*}\n",
    "  \\mathbf{a}(\\mathbf{x},t) = \\frac{d\\mathbf{v}(\\mathbf{x},t)}{dt} = \\frac{\\partial \\mathbf{v}}{\\partial t} + \\mathbf{v} \\cdot \\nabla \\mathbf{v}\n",
    "\\end{equation*}\n",
    "\n",
    "\\begin{equation*}\n",
    "  \\frac{\\partial \\mathbf{v}}{\\partial t} \n",
    "  = ( \\frac{ 2t(2x_{2}-x_{1}t)-x_{1}(2-t^{2})}{(2-t^{2})^{2}},\n",
    "  \\frac{ 2t(x_{1}-x_{2}t)-x_{2}(2-t^{2})}{(2-t^{2})^{2}} )^{T}\n",
    "  = ( \\frac{ -(t^{2}+2)x_{1}+4tx_{2}}{(2-t^{2})^{2}},\n",
    "  \\frac{ 2tx_{1}-(t^{2}+2)x_{2}}{(2-t^{2})^{2}} )^{T}\n",
    "\\end{equation*}\n",
    "\n",
    "Since\n",
    "\\begin{equation*}\n",
    "  \\mathbf{v} \\cdot \\nabla = v_{1}\\frac{\\partial}{\\partial x_{1}} + v_{2} \\frac{\\partial}{\\partial x_{2}},\n",
    "\\end{equation*}\n",
    "\\begin{equation*}\n",
    "  \\begin{split}\n",
    "  (\\mathbf{v} \\cdot \\nabla)\\mathbf{v} &= (v_{1}\\frac{\\partial v_{1}}{\\partial x_{1}} + v_{2} \\frac{\\partial v_{1}}{\\partial x_{2}}, v_{1}\\frac{\\partial v_{2}}{\\partial x_{1}} + v_{2} \\frac{\\partial v_{2}}{\\partial x_{2}})^{T} \\\\\n",
    "  &= ( \\frac{ 2x_{2}-x_{1}t}{2-t^{2}}\\frac{-t}{2-t^{2}}+\\frac{x_{1}-x_{2}t}{2-t^{2}}\\frac{2}{2-t^{2}},\n",
    "       \\frac{ 2x_{2}-x_{1}t}{2-t^{2}}\\frac{1}{2-t^{2}}+\\frac{x_{1}-x_{2}t}{2-t^{2}}\\frac{-t}{2-t^{2}} )^{T} \\\\\n",
    "  &= ( \\frac{ (t^{2}+2)x_{1}-4tx_{2}}{(2-t^{2})^{2}},\n",
    "  \\frac{ -2tx_{1}+(t^{2}+2)x_{2}}{(2-t^{2})^{2}} )^{T}\n",
    "  \\end{split}\n",
    "\\end{equation*}\n",
    "\n",
    "Combining the above results, we get\n",
    "\\begin{equation*}\n",
    "  \\mathbf{a} = \\frac{\\partial \\mathbf{v}}{\\partial t} + \\mathbf{v} \\cdot \\nabla \\mathbf{v} = (0, 0)^{T}.\n",
    "\\end{equation*}"
   ]
  },
  {
   "cell_type": "markdown",
   "metadata": {},
   "source": [
    "# (3) Small strain and spin tensors at t=1."
   ]
  },
  {
   "cell_type": "code",
   "execution_count": 7,
   "metadata": {
    "collapsed": false
   },
   "outputs": [
    {
     "name": "stdout",
     "output_type": "stream",
     "text": [
      "epsilon= [[ 0.    0.75]\n",
      " [ 0.75  0.  ]]\n",
      "omega= [[ 0.    0.25]\n",
      " [-0.25  0.  ]]\n"
     ]
    }
   ],
   "source": [
    "print \"epsilon=\", eps(1.0)\n",
    "print \"omega=\", omega(1.0)"
   ]
  },
  {
   "cell_type": "markdown",
   "metadata": {},
   "source": [
    "# (4) Repeat (1)-(3) for t=0.5"
   ]
  },
  {
   "cell_type": "markdown",
   "metadata": {},
   "source": [
    "## Deformed configuration, $\\mathbf{F}$ and $\\mathbf{E}$"
   ]
  },
  {
   "cell_type": "code",
   "execution_count": 8,
   "metadata": {
    "collapsed": false
   },
   "outputs": [],
   "source": [
    "for i in range(num_points):\n",
    "    cur_points[i] = motion(ref_points[i], 0.5)\n",
    "    verts[i] = (cur_points[i][0], cur_points[i][1])\n",
    "verts[num_points] = (cur_points[0][0], cur_points[0][1])\n",
    "polygon_by_motion = Path(verts, codes)"
   ]
  },
  {
   "cell_type": "code",
   "execution_count": 9,
   "metadata": {
    "collapsed": false
   },
   "outputs": [
    {
     "data": {
      "image/png": "[encoded data removed]",
      "text/plain": [
       "<matplotlib.figure.Figure at 0x10a997290>"
      ]
     },
     "metadata": {},
     "output_type": "display_data"
    }
   ],
   "source": [
    "fig = plt.figure()\n",
    "ax = fig.gca()\n",
    "\n",
    "patch1 = patches.PathPatch(ref_polygon, facecolor='green', alpha=0.5, lw=2, label='Reference')\n",
    "patch2 = patches.PathPatch(polygon_by_motion, facecolor='red', alpha=0.5, lw=2, label='Deformed')\n",
    "ax.add_patch(patch1)\n",
    "ax.add_patch(patch2)\n",
    "\n",
    "ax.set_xlim(-2,10)\n",
    "ax.set_ylim(-2,10)\n",
    "ax.axis('equal')\n",
    "plt.legend(loc=2)\n",
    "plt.title(\"Deformed configuration at t=0.5\")\n",
    "plt.show(fig)"
   ]
  },
  {
   "cell_type": "code",
   "execution_count": 10,
   "metadata": {
    "collapsed": false
   },
   "outputs": [
    {
     "name": "stdout",
     "output_type": "stream",
     "text": [
      "F= [[ 1.    0.5 ]\n",
      " [ 0.25  1.  ]]\n",
      "E= [[ 0.03125  0.375  ]\n",
      " [ 0.375    0.125  ]]\n"
     ]
    }
   ],
   "source": [
    "print \"F=\",F(0.5)\n",
    "print \"E=\",E(0.5)"
   ]
  },
  {
   "cell_type": "markdown",
   "metadata": {},
   "source": [
    "## Material and spatial velocities and accelerations"
   ]
  },
  {
   "cell_type": "markdown",
   "metadata": {},
   "source": [
    "At t=0.5,\n",
    "\\begin{align*}\n",
    "  \\mathbf{V} &= (X_{2}, 0.5X_{1})^{T} \\\\\n",
    "  \\mathbf{v} &= ( \\frac{2x_{2}-0.5x_{1}}{1.75}, \\frac{x_{1}-0.5x_{2}}{1.75} )^{T} \\\\\n",
    "  \\mathbf{A} &= \\mathbf{a} = (0,0)\n",
    "\\end{align*}"
   ]
  },
  {
   "cell_type": "markdown",
   "metadata": {},
   "source": [
    "## $\\boldsymbol{\\varepsilon}$ and $\\boldsymbol{\\omega}$"
   ]
  },
  {
   "cell_type": "code",
   "execution_count": 11,
   "metadata": {
    "collapsed": false
   },
   "outputs": [
    {
     "name": "stdout",
     "output_type": "stream",
     "text": [
      "epsilon= [[ 0.     0.375]\n",
      " [ 0.375  0.   ]]\n",
      "omega= [[ 0.     0.125]\n",
      " [-0.125  0.   ]]\n"
     ]
    }
   ],
   "source": [
    "print \"epsilon=\", eps(0.5)\n",
    "print \"omega=\", omega(0.5)"
   ]
  },
  {
   "cell_type": "markdown",
   "metadata": {},
   "source": [
    "# (5) Jacobian determinant"
   ]
  },
  {
   "cell_type": "markdown",
   "metadata": {},
   "source": [
    "\\begin{equation*}\n",
    "  J = \\det(\\mathbf{F}) = 1-0.5t^{2}  \n",
    "\\end{equation*}\n",
    "$J$ is positive until $t = \\sqrt{2}$. As shown below, the motion at this moment makes the voluem of the deformed configutaion a line, of which \"volume\" (i.e., area in the current context) is zero."
   ]
  },
  {
   "cell_type": "code",
   "execution_count": 12,
   "metadata": {
    "collapsed": false
   },
   "outputs": [],
   "source": [
    "for i in range(num_points):\n",
    "    cur_points[i] = motion(ref_points[i], np.sqrt(2))\n",
    "    verts[i] = (cur_points[i][0], cur_points[i][1])\n",
    "verts[num_points] = (cur_points[0][0], cur_points[0][1])\n",
    "polygon_by_motion = Path(verts, codes)"
   ]
  },
  {
   "cell_type": "code",
   "execution_count": 13,
   "metadata": {
    "collapsed": false
   },
   "outputs": [
    {
     "data": {
      "image/png": "[encoded data removed]",
      "text/plain": [
       "<matplotlib.figure.Figure at 0x10aa6e150>"
      ]
     },
     "metadata": {},
     "output_type": "display_data"
    }
   ],
   "source": [
    "fig = plt.figure()\n",
    "ax = fig.gca()\n",
    "\n",
    "patch1 = patches.PathPatch(ref_polygon, facecolor='green', alpha=0.5, lw=2, label='Reference')\n",
    "patch2 = patches.PathPatch(polygon_by_motion, facecolor='red', alpha=0.5, lw=2, label='Deformed')\n",
    "ax.add_patch(patch1)\n",
    "ax.add_patch(patch2)\n",
    "\n",
    "ax.set_xlim(-2,10)\n",
    "ax.set_ylim(-2,10)\n",
    "ax.axis('equal')\n",
    "plt.legend(loc=2)\n",
    "plt.title(\"Deformed configuration at t=$\\sqrt{2}$\")\n",
    "plt.show(fig)"
   ]
  },
  {
   "cell_type": "markdown",
   "metadata": {},
   "source": [
    "# (6) The spatial density $\\rho(\\mathbf{x},t)$"
   ]
  },
  {
   "cell_type": "markdown",
   "metadata": {},
   "source": [
    "\\begin{equation}\n",
    "  \\rho = \\frac{\\rho_{0}}{J} = \\frac{\\rho_{0}}{1-0.5t^{2}}\n",
    "\\end{equation}"
   ]
  },
  {
   "cell_type": "markdown",
   "metadata": {},
   "source": [
    "# (7) Local mass conservation"
   ]
  },
  {
   "cell_type": "markdown",
   "metadata": {},
   "source": [
    "\\begin{equation}\n",
    "  \\frac{\\partial \\rho(t)}{\\partial t} = \\frac{\\rho_{0}t}{(1-0.5t^{2})^{2}}\n",
    "\\end{equation}\n",
    "and\n",
    "\\begin{equation}\n",
    "  \\nabla \\cdot (\\rho \\mathbf{v} ) = \\rho (\\frac{\\partial v_{1}}{\\partial x_{1}} + \\frac{\\partial v_{2}}{\\partial x_{2}} ) = \\rho (-\\frac{t}{2-t^{2}} -\\frac{t}{2-t^{2}} ) = -\\frac{\\rho_{0}}{1-0.5t^{2}} \\frac{2t}{2-t^{2}} = -\\frac{\\rho_{0}t}{(1-0.5t^{2})^{2}}\n",
    "\\end{equation}\n",
    "Therefore,\n",
    "\\begin{equation}\n",
    "  \\frac{\\partial \\rho}{\\partial t} + \\nabla \\cdot (\\rho \\mathbf{v} ) = 0.\n",
    "\\end{equation}\n",
    "\n"
   ]
  },
  {
   "cell_type": "markdown",
   "metadata": {},
   "source": [
    "# (8) Verification of the Gauss theorem"
   ]
  },
  {
   "cell_type": "markdown",
   "metadata": {},
   "source": [
    "From the above results, we know that $\\nabla \\cdot (\\rho \\mathbf{v} )$ is uniform in the space. So,\n",
    "\\begin{equation}\n",
    "  \\begin{split}\n",
    "  \\int_{V(t)} \\nabla \\cdot (\\rho \\mathbf{v} ) dV &= -\\frac{\\rho_{0}t}{(1-0.5t^{2})^{2}} \\int_{V(t)} dV\n",
    "     = -\\frac{\\rho_{0}t}{(1-0.5t^{2})^{2}} \\int_{V_{0}} J dV_{0} \\\\\n",
    "     &= -\\frac{\\rho_{0}t}{(1-0.5t^{2})^{2}} J \\int_{V_{0}} dV_{0}\n",
    "     = -\\frac{\\rho_{0}t}{(1-0.5t^{2})}.\n",
    "  \\end{split}\n",
    "\\end{equation}"
   ]
  },
  {
   "cell_type": "markdown",
   "metadata": {},
   "source": [
    "We denote the edges and normals of a deformed configuration at time $t$ as follows:\n",
    "<img src=\"http://www.ceri.memphis.edu/people/echoi2/ceri8353/HW1_2016_Q2_8.png\" width=\"600\">\n",
    "<!--%![deformed configuration at t](/Users/eunseo/Google\\ Drive/Courses/CERI7353-8353-Geodynamics/assignments/2016/HW1_2016_Q2_8.png)-->\n",
    "\n",
    "We note that \n",
    "\\begin{equation}\n",
    "  \\int_{\\partial V(t)} \\rho \\mathbf{v} \\cdot \\mathbf{n} dS = \n",
    "  \\int_{e_{0}(t)} \\rho \\mathbf{v} \\cdot \\mathbf{n_{0}} dl + \\int_{e_{1}(t)} \\rho \\mathbf{v} \\cdot \\mathbf{n_{1}} dl\n",
    "  + \\int_{e_{2}(t)} \\rho \\mathbf{v} \\cdot \\mathbf{n_{2}} dl + \\int_{e_{3}(t)} \\rho \\mathbf{v} \\cdot \\mathbf{n_{3}} dl.\n",
    "\\end{equation}\n",
    "\n",
    "- $\\mathbf{n}_{0} = (\\cos \\alpha^{\\prime}, \\sin \\alpha^{\\prime})$\n",
    "\\begin{align}\n",
    "  \\cos \\alpha^{\\prime} &= \\cos (\\alpha-\\frac{\\pi}{2}) = \\cos (\\frac{\\pi}{2}-\\alpha) = \\sin \\alpha = \\frac{0.5t}{\\sqrt{1+(0.5t)^{2}}} \\\\\n",
    "  \\sin \\alpha^{\\prime} &= \\sin (\\alpha-\\frac{\\pi}{2}) = -\\sin (\\frac{\\pi}{2}-\\alpha) = -\\cos \\alpha = -\\frac{1}{\\sqrt{1+(0.5t)^{2}}}\n",
    "\\end{align}\n",
    "\n",
    "- $\\mathbf{n}_{3} = (\\cos \\beta^{\\prime}, \\sin \\beta^{\\prime})$\n",
    "\\begin{align}\n",
    "  \\cos \\beta^{\\prime} &= \\cos (\\beta+\\frac{\\pi}{2}) = -\\sin \\beta = -\\frac{1}{\\sqrt{1+t^{2}}} \\\\\n",
    "  \\sin \\beta^{\\prime} &= \\sin (\\beta+\\frac{\\pi}{2}) = \\cos \\beta = \\frac{t}{\\sqrt{1+t^{2}}}\n",
    "\\end{align}\n",
    "\n",
    "- $\\mathbf{n}_{2} = -\\mathbf{n}_{0}$\n",
    "\\begin{align}\n",
    "  \\mathbf{n}_{2} = \\left( -\\frac{0.5t}{\\sqrt{1+(0.5t)^{2}}}, \\frac{1}{\\sqrt{1+(0.5t)^{2}}} \\right)\n",
    "\\end{align}\n",
    "\n",
    "- $\\mathbf{n}_{1} = -\\mathbf{n}_{3}$\n",
    "\\begin{align}\n",
    "  \\mathbf{n}_{1} = \\left( \\frac{1}{\\sqrt{1+t^{2}}}, -\\frac{t}{\\sqrt{1+t^{2}}} \\right)\n",
    "\\end{align}"
   ]
  },
  {
   "cell_type": "markdown",
   "metadata": {},
   "source": [
    "Along the edge 0 ($e_{0}$), $x_{2} = 0.5tx_{1}$ and $dl = \\sqrt{dx_{1}^{2}+dx_{2}^{2}} = \\sqrt{1+(dx_{2}/dx_{1})^{2}} dx_{1} = \\sqrt{1+(0.5t)^{2}} dx_{1}$.\n",
    "\\begin{equation}\n",
    "  \\begin{split}\n",
    "  \\int_{e_{0}} \\rho \\mathbf{v} \\cdot \\mathbf{n}_{0} dl \n",
    "    &= \\rho  \\int_{e_{0}} \\left( \\frac{2x_{2}-x_{1}t}{2-t^{2}} \\frac{0.5t}{\\sqrt{1+(0.5t)^{2}}} \n",
    "    - \\frac{x_{1}-x_{2}t}{2-t^{2}} \\frac{1}{\\sqrt{1+(0.5t)^{2}}} \\right) dl \\\\\n",
    "    &= -\\frac{\\rho_{0}}{1-0.5t^{2}} \\frac{(1-0.5t^{2})}{(2-t^{2})\\sqrt{1+(0.5t)^{2}}} \\int_{0}^{1} x_{1} \\sqrt{1+(0.5t)^{2}} dx_{1} dx_{1} \\\\\n",
    "    &=  -\\frac{\\rho_{0}}{2(2-t^{2})}.\n",
    "  \\end{split}\n",
    "\\end{equation}"
   ]
  },
  {
   "cell_type": "markdown",
   "metadata": {},
   "source": [
    "Along the edge 1 ($e_{1}$), $x_{2} = (x_{1}-1)/t+0.5t$ and $dl = \\sqrt{1+1/t^{2}}dx_{1}=\\frac{\\sqrt{1+t^{2}}}{t}dx_{1}$.\n",
    "\\begin{equation}\n",
    "  \\begin{split}\n",
    "  \\int_{e_{1}} \\rho \\mathbf{v} \\cdot \\mathbf{n}_{1} dl \n",
    "    &= \\rho  \\int_{e_{1}} \\left( \\frac{2x_{2}-x_{1}t}{2-t^{2}} \\frac{1}{\\sqrt{1+t^{2}}} \n",
    "    - \\frac{x_{1}-x_{2}t}{2-t^{2}} \\frac{t}{\\sqrt{1+t^{2}}} \\right) dl \\\\\n",
    "    &= \\frac{\\rho_{0}}{1-0.5t^{2}} \\frac{1}{\\sqrt{1+t^{2}}} \\int_{1}^{1+t} \\left[ \\frac{1}{t}(x_{1}-1)-\\frac{t}{2} \\right] \\frac{\\sqrt{1+t^{2}}}{t} dx_{1} \\\\\n",
    "    &= \\frac{\\rho_{0}}{1-0.5t^{2}} \\frac{0.5t(1-t)}{\\sqrt{1+t^{2}}} \\frac{\\sqrt{1+t^{2}}}{t} = \\frac{\\rho_{0}(1-t)}{2-t^{2}}.\n",
    "  \\end{split}\n",
    "\\end{equation}"
   ]
  },
  {
   "cell_type": "markdown",
   "metadata": {},
   "source": [
    "Along the edge 2 ($e_{2}$), $x_{2} = 0.5t(x_{1}-t)+1$ and $dl=\\sqrt{1+(0.5t)^{2}}dx_{1}$.\n",
    "\\begin{equation}\n",
    "  \\begin{split}\n",
    "  \\int_{e_{2}} \\rho \\mathbf{v} \\cdot \\mathbf{n}_{2} dl \n",
    "    &= \\frac{\\rho_{0}}{1-0.5t^{2}}  \\int_{e_{2}} \\left( -\\frac{2x_{2}-x_{1}t}{2-t^{2}} \\frac{0.5t}{\\sqrt{1+(0.5t)^{2}}} + \\frac{x_{1}-x_{2}t}{2-t^{2}} \\frac{1}{\\sqrt{1+(0.5t)^{2}}} \\right) dl \\\\\n",
    "    &= \\frac{\\rho_{0}}{1-0.5t^{2}} \\frac{1}{\\sqrt{1+(0.5t)^{2}}} \\int_{t}^{1+t} \\left[ -0.5t + 0.5(x_{1}-t \\right] \\sqrt{1+(0.5t)^{2}} dx_{1} \\\\\n",
    "    &=  \\frac{\\rho_{0}(1-2t)}{2(2-t^{2})}.\n",
    "  \\end{split}\n",
    "\\end{equation}"
   ]
  },
  {
   "cell_type": "markdown",
   "metadata": {},
   "source": [
    "Along the edge 3 ($e_{3}$), $x_{2} = x_{1}/t$ and $dl = \\frac{\\sqrt{1+t^{2}}}{t}dx_{1}$.\n",
    "\\begin{equation}\n",
    "  \\begin{split}\n",
    "  \\int_{e_{3}} \\rho \\mathbf{v} \\cdot \\mathbf{n}_{3} dl \n",
    "    &= \\rho  \\int_{e_{3}} \\left( -\\frac{2x_{2}-x_{1}t}{2-t^{2}} \\frac{1}{\\sqrt{1+t^{2}}}\n",
    "    + \\frac{x_{1}-x_{2}t}{2-t^{2}} \\frac{t}{\\sqrt{1+t^{2}}} \\right) dl \\\\\n",
    "    &= -\\frac{\\rho_{0}}{1-0.5t^{2}} \\frac{1}{t\\sqrt{1+t^{2}}} \\int_{0}^{t} x_{1} \\frac{\\sqrt{1+t^{2}}}{t} dx_{1} \\\\\n",
    "    &=  -\\frac{\\rho_{0}}{1-0.5t^{2}} \\frac{1}{t\\sqrt{1+t^{2}}} \\frac{t^{2}}{2} \\frac{\\sqrt{1+t^{2}}}{t}\n",
    "    = -\\frac{\\rho_{0}}{(2-t^{2})}.\n",
    "  \\end{split}\n",
    "\\end{equation}"
   ]
  },
  {
   "cell_type": "markdown",
   "metadata": {},
   "source": [
    "Finally, we get\n",
    "\\begin{equation}\n",
    "  \\begin{split}\n",
    "  \\int_{\\partial V(t)} \\rho \\mathbf{v} \\cdot \\mathbf{n} dS \n",
    "  &= \\int_{e_{0}(t)} \\rho \\mathbf{v} \\cdot \\mathbf{n_{0}} dl + \\int_{e_{1}(t)} \\rho \\mathbf{v} \\cdot \\mathbf{n_{1}} dl\n",
    "  + \\int_{e_{2}(t)} \\rho \\mathbf{v} \\cdot \\mathbf{n_{2}} dl + \\int_{e_{3}(t)} \\rho \\mathbf{v} \\cdot \\mathbf{n_{3}} dl \\\\\n",
    "  &= -\\frac{\\rho_{0}}{2(2-t^{2})} + \\frac{\\rho_{0}(1-t)}{2-t^{2}} + \\frac{\\rho_{0}(1-2t)}{2(2-t^{2})} + -\\frac{\\rho_{0}}{(2-t^{2})} \\\\\n",
    "  &= -\\frac{\\rho_{0}t}{(1-0.5t^{2})}.\n",
    "  \\end{split}\n",
    "\\end{equation}\n",
    "\n",
    "Therefore\n",
    "\\begin{equation}\n",
    " \\int_{V(t)} \\nabla \\cdot (\\rho \\mathbf{v} ) dV = \\int_{\\partial V(t)} \\rho \\mathbf{v} \\cdot \\mathbf{n} dS\n",
    "\\end{equation}"
   ]
  }
 ],
 "metadata": {
  "kernelspec": {
   "display_name": "Python 2",
   "language": "python",
   "name": "python2"
  },
  "language_info": {
   "codemirror_mode": {
    "name": "ipython",
    "version": 2
   },
   "file_extension": ".py",
   "mimetype": "text/x-python",
   "name": "python",
   "nbconvert_exporter": "python",
   "pygments_lexer": "ipython2",
   "version": "2.7.11"
  }
 },
 "nbformat": 4,
 "nbformat_minor": 0
}
