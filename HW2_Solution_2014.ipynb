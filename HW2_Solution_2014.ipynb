{
 "metadata": {
  "name": "",
  "signature": "sha256:faa6fd178abe1867ca2d803fb25135c9369a4d9edf59a6f1a62e48894bca47c1"
 },
 "nbformat": 3,
 "nbformat_minor": 0,
 "worksheets": [
  {
   "cells": [
    {
     "cell_type": "heading",
     "level": 1,
     "metadata": {},
     "source": [
      "Problem 2"
     ]
    },
    {
     "cell_type": "heading",
     "level": 2,
     "metadata": {},
     "source": [
      "(a) Complete the Python code for solving the plate equation"
     ]
    },
    {
     "cell_type": "markdown",
     "metadata": {},
     "source": [
      "Equation 12.1 of T&S (2014) is\n",
      "\\begin{equation}\n",
      "\\bar{w}^{''''} + 4\\bar{w} = 0\n",
      "\\end{equation}\n",
      "and has the following boundary conditions\n",
      "\n",
      "\\begin{align}\n",
      "    \\bar{w}^{'}(0) &= 0,\\\\\n",
      "    \\bar{w}^{'''}(0) &= 4,\\\\\n",
      "    \\bar{w}^{''}(\\bar{x}=20) &= 0,\\\\\n",
      "    \\bar{w}^{'''}(\\bar{x}=20) &= 0.\n",
      "\\end{align}\n",
      "\n",
      "We convert this forth-order ODE to a system of 1st order ODEs as follows:\n",
      "\\begin{align}\n",
      "    \\bar{w_{0}} = &\\bar{w},\\\\\n",
      "    \\bar{w_{0}}^{'}(=\\bar{w}^{'}) = &\\bar{w_{1}},\\\\\n",
      "    \\bar{w_{1}}^{'}(=\\bar{w}^{''}) = &\\bar{w_{2}},\\\\\n",
      "    \\bar{w_{2}}^{'}(=\\bar{w}^{'''}) = &\\bar{w_{3}},\\\\\n",
      "    \\bar{w_{3}}^{'}(=\\bar{w}^{''''}) = &-4\\bar{w_{0}}.   \n",
      "\\end{align}\n",
      "\n",
      "Through this conversion, we newly got 4 unknown functions ($\\bar{w_{i}}$, $i=0\\ldots3$) but also got 4 1st order ODEs. So, we can solve for them.\n",
      "\n",
      "To solve this system of 1st order ODEs, we'll need `bvp_solver` module (https://pythonhosted.org/scikits.bvp_solver/). Go ahead and install it. The rest of the solution shows how to use this module to solve the above equation system as done in Sec. 12.1 of T&S."
     ]
    },
    {
     "cell_type": "code",
     "collapsed": false,
     "input": [
      "# load the bvp_solver module\n",
      "import scikits.bvp_solver\n",
      "\n",
      "# Define some constants. See Sec. 12.1 of T&S to see their meaning.\n",
      "L=20.0\n",
      "\n",
      "# \\bar{x} values where the displacement solutions are going to be evaluated.\n",
      "# 101 points in [0,L].\n",
      "A = np.linspace(0,L,101)"
     ],
     "language": "python",
     "metadata": {},
     "outputs": [],
     "prompt_number": 93
    },
    {
     "cell_type": "code",
     "collapsed": false,
     "input": [
      "def define_problem( bd_points, eqns, bcs):\n",
      "    ''' A function that returns problem defintion as needed by bvp_solver.\n",
      "        Note that the problem is hardwired to a system of 4 1st order ODEs \n",
      "        with 2 boundary conditions for the left boundary and 2 for the right\n",
      "        boundary.\n",
      "        \n",
      "        For argument types, see functions, line_load() and tri_load(), given\n",
      "        below.'''\n",
      "    return scikits.bvp_solver.ProblemDefinition(num_ODE = 4,\n",
      "                                      num_parameters = 0,\n",
      "                                      num_left_boundary_conditions = 2,\n",
      "                                      boundary_points = bd_points,\n",
      "                                      function = eqns,\n",
      "                                      boundary_conditions = bcs)"
     ],
     "language": "python",
     "metadata": {},
     "outputs": [],
     "prompt_number": 94
    },
    {
     "cell_type": "heading",
     "level": 3,
     "metadata": {},
     "source": [
      "Line Load"
     ]
    },
    {
     "cell_type": "code",
     "collapsed": false,
     "input": [
      "def line_load(A):\n",
      "    ''' returns the displacement of a thin elastic plate due to a line load.\n",
      "        See Sec. 12.1 and the text above to understand the system of equations being solved.'''\n",
      "    def eqns(x , w):\n",
      "        ''' return the right hand side of each of the four 1st ODEs.\n",
      "            See the text above.'''\n",
      "        return np.array([w[1],\n",
      "                         w[2],\n",
      "                         w[3],\n",
      "                         -4.0*w[0]])  \n",
      "    \n",
      "    def bcs(wl,wr):\n",
      "        '''On the left boundary point, 1st and 3rd derivatives are specified.\n",
      "           And on the right boundary point, 2nd and 3rd derivatives are given.\n",
      "           Note that the *differences* should be returned: \n",
      "           e.g., if the 3rd derivative is 4.0 on x=0 (the left boundary), wl[3]-4.0 should be\n",
      "           the return value.'''\n",
      "        return (np.array([wl[1], wl[3]-4.0]),\n",
      "                np.array([wr[2], wr[3]]))\n",
      "    \n",
      "    # \\bar{x} values for the boundary points.\n",
      "    bd_points = (0.0, L)\n",
      "    \n",
      "    # Define a problem to be given to bvp_solver.\n",
      "    problem = define_problem( bd_points, eqns, bcs )\n",
      "    \n",
      "    # solve the problem with an initial guess, \n",
      "    # which is that \\bar{w_{i}} are all uniformly zero.    \n",
      "    solution = scikits.bvp_solver.solve( problem,\n",
      "                                     solution_guess = (0,0,0,0) )\n",
      "    \n",
      "    # evaluate solution on the interval A.\n",
      "    w_soln = solution(A)\n",
      "\n",
      "    # Return only w_soln[0,:] because it corresponds to\n",
      "    # \\bar{w}. Others correspond to the derivatives of \\bar{w} as defined in the above text.      \n",
      "    return w_soln[0,:]"
     ],
     "language": "python",
     "metadata": {},
     "outputs": [],
     "prompt_number": 95
    },
    {
     "cell_type": "heading",
     "level": 3,
     "metadata": {},
     "source": [
      "Triangular Load\n"
     ]
    },
    {
     "cell_type": "code",
     "collapsed": false,
     "input": [
      "def tri_load(A,l):\n",
      "    ''' Refer to Sec. 12.1 of T&S for the differences from the line load problem.\n",
      "        The code structure is the same with the line_load function.\n",
      "        \n",
      "        However, note that this function takes an extra argument, l. This is the width of the triangular load\n",
      "        and identical with \\bar{l} in Sec. 12.1 of T&S.'''\n",
      "\n",
      "    def Heaviside(x):\n",
      "        '''returns 0 if x < 0, 0.5 if x==0, and 1.0 if x > 0.'''\n",
      "        return 0.5 * (np.sign(x) + 1)\n",
      "    \n",
      "    def eqns(x , w):\n",
      "        return np.array([w[1],\n",
      "                         w[2],\n",
      "                         w[3],\n",
      "                         -4.0*w[0]+(1.0-x/l)*Heaviside(1.0-x/l)])  \n",
      "    \n",
      "    def bcs(wl,wr):\n",
      "        return (np.array([wl[1], wl[3]-0.5*l]),\n",
      "                np.array([wr[2], wr[3]]))\n",
      "    \n",
      "    # \\bar{x} values for the boundary points.\n",
      "    bd_points = (0.0, L)\n",
      "    \n",
      "    # Define a problem to be given to bvp_solver.    \n",
      "    problem = define_problem( bd_points, eqns, bcs )\n",
      "    \n",
      "    # solve the problem with an initial guess, \n",
      "    # which is that \\bar{w_{i}} are all uniformly zero.    \n",
      "    solution = scikits.bvp_solver.solve( problem,\n",
      "                                     solution_guess = (0,0,0,0) )\n",
      "    \n",
      "    # evaluate solution on the interval A.\n",
      "    w_soln = solution(A)\n",
      "    \n",
      "    # Return only w_soln[0,:] because it corresponds to\n",
      "    # \\bar{w}. Others correspond to the derivatives of \\bar{w} as defined in the above text.  \n",
      "    return w_soln[0,:]"
     ],
     "language": "python",
     "metadata": {},
     "outputs": [],
     "prompt_number": 96
    },
    {
     "cell_type": "heading",
     "level": 3,
     "metadata": {},
     "source": [
      "Plot the results"
     ]
    },
    {
     "cell_type": "code",
     "collapsed": false,
     "input": [
      "import pylab\n",
      "pylab.rc('text', usetex=True)\n",
      "plt.rc('font', family='sanserif')\n",
      "pylab.plot(A, line_load(A), 'k-', label='line load', linewidth=2)\n",
      "pylab.plot(A, tri_load(A,2.0), 'b-', label='tri load l=2.0', linewidth=2)\n",
      "pylab.plot(A, tri_load(A,0.1), 'r-', label='tri load l=0.1', linewidth=2)\n",
      "pylab.legend()\n",
      "pylab.xlabel(r\"$\\bar{x}$\",fontsize=14)\n",
      "pylab.ylabel(r\"$\\bar{u}$\",fontsize=14)\n",
      "pylab.show()"
     ],
     "language": "python",
     "metadata": {},
     "outputs": [
      {
       "metadata": {},
       "output_type": "display_data",
       "png": "[encoded data removed]",
       "text": [
        "<matplotlib.figure.Figure at 0x1076a5510>"
       ]
      }
     ],
     "prompt_number": 97
    },
    {
     "cell_type": "heading",
     "level": 2,
     "metadata": {},
     "source": [
      "(b) Find the conditions for the convergence of the solution to a triangular distributed load towards that of a line load."
     ]
    },
    {
     "cell_type": "markdown",
     "metadata": {},
     "source": [
      "Observing that $\\bar{w}^{''''} + 4\\bar{w} = (1-\\frac{x}{\\bar{l}})\\,H(1-\\frac{x}{\\bar{l}})$, where $H$ is the Heaviside function, converges to $\\bar{w}^{''''} + 4\\bar{w} = 0$ as $\\bar{l} \\rightarrow 0$, we can conclude that the boundary condition for $\\bar{w}_{3}(x=0)$ should also converge to that of the line load. The current boundary condition for the triangular load also as $\\bar{l} \\rightarrow 0$, leading to zero deflection. We can try something like $\\bar{w}_{3}=4\\,e^{-\\bar{l}^{2}}+\\bar{l}/2$, where 4 is the value of the normalized line load we used above, instead of $\\bar{w}_{3}=\\bar{l}/2$. As shown below, this new boundary condition can approximate both the line load and the triangular load solution as end members as well as intermediate ones. This specific functional form is not a unique choice, of course."
     ]
    },
    {
     "cell_type": "code",
     "collapsed": false,
     "input": [
      "def tri_load2(A,l):\n",
      "    def Heaviside(x):\n",
      "        '''returns 0 if x < 0, 0.5 if x==0, and 1.0 if x > 0.'''\n",
      "        return 0.5 * (np.sign(x) + 1)\n",
      "    \n",
      "    def eqns(x , w):\n",
      "        # to be completed.\n",
      "        return np.array([w[1],\n",
      "                         w[2],\n",
      "                         w[3],\n",
      "                         -4.0*w[0]+(1.0-x/l)*Heaviside(1.0-x/l)])  \n",
      "    \n",
      "    def bcs(wl,wr):\n",
      "        return (np.array([wl[1], wl[3]-(4.0*np.exp(-l*l)+0.5*l)]),\n",
      "                np.array([wr[2], wr[3]]))\n",
      "    \n",
      "    # \\bar{x} values for the boundary points.\n",
      "    bd_points = (0.0, L)\n",
      "    \n",
      "    # Define a problem to be given to bvp_solver.    \n",
      "    problem = define_problem( bd_points, eqns, bcs )\n",
      "    \n",
      "    # solve the problem with an initial guess, \n",
      "    # which is that \\bar{w_{i}} are all uniformly zero.    \n",
      "    solution = scikits.bvp_solver.solve( problem,\n",
      "                                     solution_guess = (0,0,0,0) )\n",
      "    \n",
      "    # evaluate solution on the interval A.\n",
      "    w_soln = solution(A)\n",
      "    \n",
      "    # Return only w_soln[0,:] because it corresponds to\n",
      "    # \\bar{w}. Others correspond to the derivatives of \\bar{w} as defined in the above text.  \n",
      "    return w_soln[0,:]"
     ],
     "language": "python",
     "metadata": {},
     "outputs": [],
     "prompt_number": 98
    },
    {
     "cell_type": "code",
     "collapsed": false,
     "input": [
      "import pylab\n",
      "pylab.plot(A, line_load(A),'k-', label='Line load', linewidth=2)\n",
      "pylab.plot(A, tri_load(A,2.0),'r-', label='Tri. load, l=2.0', linewidth=2)\n",
      "pylab.plot(A, tri_load2(A,0.01),'ko', label='Tri. load2, l=0.01', markersize=4)\n",
      "pylab.plot(A, tri_load2(A,1.0),'bo', label='Tri. load2, l=1.0', markersize=4)\n",
      "pylab.plot(A, tri_load2(A,2.0),'ro', label='Tri. load2, l=2.0', markersize=4)\n",
      "pylab.legend()\n",
      "pylab.show()"
     ],
     "language": "python",
     "metadata": {},
     "outputs": [
      {
       "metadata": {},
       "output_type": "display_data",
       "png": "[encoded data removed]",
       "text": [
        "<matplotlib.figure.Figure at 0x1076a59d0>"
       ]
      }
     ],
     "prompt_number": 99
    },
    {
     "cell_type": "heading",
     "level": 1,
     "metadata": {},
     "source": [
      "Problem 3"
     ]
    },
    {
     "cell_type": "markdown",
     "metadata": {},
     "source": [
      "We first try to get the fundamental solution to the following problem. \n",
      "\\begin{align}\n",
      "    u_{xx}-u\\,u_{t} &= \\delta(x-\\xi)\\,\\delta(t-\\tau) \\\\\n",
      "    u(x,t) &= 0 \\text{ for } |x| \\rightarrow \\infty, \\\\\n",
      "    u(x,0) &= 0.\n",
      "\\end{align}\n",
      "Once we get the fundamental solution, the solution to the original problem will be a matter of simple change of variable, reformulation of boundary and initial conditions using the properties of delta function, or application of image sources.\n",
      "\n",
      "Without loss of generality, the fundamental solution for $\\xi=0$ and $\\tau=0$ would be just fine.\n",
      "\n",
      "Following the procedure for the 1D heat diffusion equation, we denote a solution to the above equation as $F(x,t)$. Now, let's assume that another solution $G(x,t)$ exists and is related to $F$ through as follows:\n",
      "\\begin{align}\n",
      "    G(x,t) \\equiv \\alpha\\,F(\\beta x,\\gamma t) = \\alpha\\,F(\\bar{x},\\bar{t}), %\\label{eq:G and F}\n",
      "\\end{align}\n",
      "where $\\bar{x}=\\beta\\,x$ and $\\bar{t}=\\gamma\\,t$.\n",
      "\n",
      "Since $G$ satisfies the above PDE,\n",
      "\\begin{align}\n",
      "    G_{xx}-G\\,G_{t} &= \\delta(x)\\,\\delta(t)\n",
      "\\end{align}\n",
      "Equivalently, \n",
      "\\begin{align}\n",
      "    \\alpha\\,\\beta^{2}F_{\\bar{x}\\bar{x}}-\\alpha\\,F\\,\\alpha\\,\\gamma\\,F_{\\bar{t}} &= \\delta\\left(\\frac{\\bar{x}}{\\beta}\\right)\\,\\delta\\left(\\frac{\\bar{t}}{\\gamma}\\right) \\\\\n",
      "    \\rightarrow \\quad F_{\\bar{x}\\bar{x}}-\\frac{\\alpha\\,\\gamma}{\\beta^{2}}F\\,F_{\\bar{t}} &= \\frac{\\gamma}{\\alpha\\,\\beta}\\delta(\\bar{x})\\,\\delta(\\bar{t})\n",
      "\\end{align}\n",
      "\n",
      "Since we assumed that $F$ is also the solution, the invariance of PDE implies that\n",
      "\\begin{align}\n",
      "    \\alpha\\,\\gamma &= \\beta^{2} \\\\\n",
      "    \\gamma &= \\alpha\\,\\beta\n",
      "\\end{align}\n",
      "or\n",
      "\\begin{align}\n",
      "    \\beta &= \\alpha^{2} \\\\\n",
      "    \\gamma &= \\alpha^{3}\n",
      "\\end{align}\n",
      "\n",
      "From these, we get\n",
      "\\begin{align}\n",
      "    G(x,t) = \\alpha\\,F(\\alpha^{2}\\,x,\\alpha^{3}\\,t) = F(x,t).\n",
      "\\end{align}\n",
      "This result implies that the following can be the functional form of $F$:\n",
      "\\begin{align}\n",
      "    F(x,t) = \\frac{1}{t^{1/3}}\\,f\\left( \\frac{x}{t^{2/3}} \\right) = \\frac{1}{t^{1/3}}\\,f(\\zeta),\n",
      "\\end{align}\n",
      "where $\\zeta = \\frac{x}{t^{2/3}}$. Note that there are infinitely many other choices but I picked this one becuase it simplifies the calculation of partial derivatives.\n",
      "\n",
      "Partial derivates of such $F$ are given as\n",
      "\\begin{align}\n",
      "    F_{t} &= -\\frac{1}{3t^{4/3}} f - \\frac{2x}{3t^{2}}f^{'} \\\\\n",
      "    F_{x} &= \\frac{1}{t} f^{'} \\\\\n",
      "    F_{xx} &= \\frac{1}{t^{5/3}} f^{''}\n",
      "\\end{align}\n",
      "\n",
      "Plugging these into the homogeneous version of the PDE, $F_{xx}-F\\,F_{t}=0$, and simplifying it, we get\n",
      "\\begin{align}\n",
      "    f^{''} + \\frac{1}{3}\\,f^{2} + \\frac{2}{3}\\zeta\\,f\\,f^{'}=0\\\\\n",
      "\\end{align}\n",
      "This is the ODE we sought. Like the ODE for the 1D linear diffusion equation, this is also exact: i.e.,\n",
      "\\begin{align}\n",
      "    \\frac{d}{d\\zeta}\\left( f^{'} + \\frac{\\zeta}{3}\\,f^{2} \\right) = 0\n",
      "\\end{align}\n",
      "So, \n",
      "\\begin{align}\n",
      "    f^{'} + \\frac{\\zeta}{3}\\,f^{2} = A,\n",
      "\\end{align}\n",
      "where $A$ is an integration constant.\n",
      "This non-linear first order ODE is called a Riccati equation, which is the type of non-linear ODEs without a general procedure to get a solution.\n",
      "However, our specific equation does have a solution, which is according to Wolfram alpha (http://www.wolframalpha.com/),\n",
      "\\begin{align}\n",
      "f(\\zeta) = \\frac{3\\left(\\frac{A}{3}\\right)^{2/3} \\left[ k_{1}\\,\\text{Ai}\\left( (A/3)^{1/3}\\,\\zeta \\right) + \\text{Bi}\\left( (A/3)^{1/3}\\,\\zeta \\right) \\right]}{\\left[ k_{1}\\,\\text{Ai}^{'}\\left( (A/3)^{1/3}\\,\\zeta \\right) + \\text{Bi}^{'}\\left( (A/3)^{1/3}\\,\\zeta \\right) \\right]},\n",
      "\\end{align}\n",
      "where $k_{1}$ is another integration constant, $\\text{Ai}$ is the Airy function (http://en.wikipedia.org/wiki/Airy_function, http://dlmf.nist.gov/9), $\\text{Bi}$ is the Airy function of the second kind, and $\\text{Ai}^{'}$ and $\\text{Bi}^{'}$ are the respective derivative.\n",
      "\n",
      "Therefore, our solution $F(x,t)$ is finally given as\n",
      "\\begin{align}\n",
      "f(\\zeta) = \\frac{3^{1/3}A^{2/3}\\,\\left[ k_{1}\\,\\text{Ai}\\left( (A/3)^{1/3}\\,\\zeta \\right) + \\text{Bi}\\left( (A/3)^{1/3}\\,\\zeta \\right) \\right]}{t^{1/3}\\,\\left[ k_{1}\\,\\text{Ai}^{'}\\left( (A/3)^{1/3}\\,\\zeta \\right) + \\text{Bi}^{'}\\left( (A/3)^{1/3}\\,\\zeta \\right) \\right]}.\n",
      "\\end{align}"
     ]
    },
    {
     "cell_type": "markdown",
     "metadata": {},
     "source": [
      "The integration constants, $k_{1}$ and $A$ should be determined by the boundary conditions.\n",
      "Due to characteristics of the Airy functions (oscillatory for $x<0$ and exponential for $x>0$), we have to take only the \"positive side\" of $f(\\zeta)$ and make it symmetric: i.e.,\n",
      "\\begin{align}\n",
      "f(\\zeta) = \\frac{3^{1/3}A^{2/3}\\,\\left[ k_{1}\\,\\text{Ai}\\left( (A/3)^{1/3}\\,|\\zeta| \\right) + \\text{Bi}\\left( (A/3)^{1/3}\\,|\\zeta| \\right) \\right]}{t^{1/3}\\,\\left[ k_{1}\\,\\text{Ai}^{'}\\left( (A/3)^{1/3}\\,|\\zeta| \\right) + \\text{Bi}^{'}\\left( (A/3)^{1/3}\\,|\\zeta| \\right) \\right]}.\n",
      "\\end{align}\n",
      "Just to give you a sense of how this solution behaves, $F(x,t)$ is plotted below for selected values of $t$ with $k_{1}=1$ and $A=3$. \n",
      "We can see that $F(x,t)$ shows similar qualitative behaviors with the fundamental solution for the 1D linear diffusion equation."
     ]
    },
    {
     "cell_type": "code",
     "collapsed": false,
     "input": [
      "from scipy.special import *\n",
      "\n",
      "def get_soln(x,t,xi,tau):\n",
      "    '''x is an array of x values where the solution is evaluated,\n",
      "       t is a scalar value of time when the solution is evaluated,\n",
      "       xi and tau are the location and time of the impulse load.'''\n",
      "    Ai, Aip, Bi, Bip = airy(np.abs((x-xi)/(t-tau)**(2.0/3.0)))\n",
      "    return (Ai+Bi)/(t**(1.0/3.0)*(Aip+Bip))"
     ],
     "language": "python",
     "metadata": {},
     "outputs": [],
     "prompt_number": 100
    },
    {
     "cell_type": "code",
     "collapsed": false,
     "input": [
      "x1=np.linspace(-10,10,1001)\n",
      "\n",
      "sol1 = get_soln(x1,0.1,0.0,0.0)\n",
      "sol2 = get_soln(x1,1.0,0.0,0.0)\n",
      "sol3 = get_soln(x1,5.0,0.0,0.0)\n",
      "sol4 = get_soln(x1,10.0,0.0,0.0)\n",
      "sol5 = get_soln(x1,50.0,0.0,0.0)\n",
      "\n",
      "plt.plot(x1,sol1,'r-',label='t=0.1',linewidth=2)\n",
      "plt.plot(x1,sol2,'y-',label='t=1.0',linewidth=2)\n",
      "plt.plot(x1,sol3,'g-',label='t=5.0',linewidth=2)\n",
      "plt.plot(x1,sol4,'b-',label='t=10.0',linewidth=2)\n",
      "plt.plot(x1,sol5,'k-',label='t=50.0',linewidth=2)\n",
      "plt.legend()\n",
      "plt.axis([-10, 10, 0, 12])"
     ],
     "language": "python",
     "metadata": {},
     "outputs": [
      {
       "metadata": {},
       "output_type": "pyout",
       "prompt_number": 101,
       "text": [
        "[-10, 10, 0, 12]"
       ]
      },
      {
       "metadata": {},
       "output_type": "display_data",
       "png": "[encoded data removed]",
       "text": [
        "<matplotlib.figure.Figure at 0x10762f250>"
       ]
      }
     ],
     "prompt_number": 101
    },
    {
     "cell_type": "code",
     "collapsed": false,
     "input": [
      "# try to run this block if you want to compare the solutions for the linear and the non-linear equations.\n",
      "'''\n",
      "x1=np.linspace(-100,100,1001)\n",
      "\n",
      "def get_soln2(x1,t):\n",
      "    return 12*0.5/np.sqrt(np.pi*t)*np.exp(-0.25*x1**2/t)\n",
      "\n",
      "sol1 = get_soln(x1,0.1,0.0,0.0)\n",
      "sol2 = get_soln2(x1,0.1)\n",
      "sol3 = get_soln(x1,5.0,0.0,0.0)\n",
      "sol4 = get_soln2(x1,5.0)\n",
      "\n",
      "plt.plot(x1,sol1,'r-',label='non-lin. t=0.1',linewidth=2)\n",
      "plt.plot(x1,sol2,'r--',label='lin. t=0.1',linewidth=2)\n",
      "plt.plot(x1,sol3,'g-',label='non-lin. t=5.0',linewidth=2)\n",
      "plt.plot(x1,sol4,'g--',label='lin. t=5.0',linewidth=2)\n",
      "plt.legend()\n",
      "plt.axis([-10, 10, 0, 12])\n",
      "'''"
     ],
     "language": "python",
     "metadata": {},
     "outputs": [
      {
       "metadata": {},
       "output_type": "pyout",
       "prompt_number": 102,
       "text": [
        "\"\\nx1=np.linspace(-100,100,1001)\\n\\ndef get_soln2(x1,t):\\n    return 12*0.5/np.sqrt(np.pi*t)*np.exp(-0.25*x1**2/t)\\n\\nsol1 = get_soln(x1,0.1,0.0,0.0)\\nsol2 = get_soln2(x1,0.1)\\nsol3 = get_soln(x1,5.0,0.0,0.0)\\nsol4 = get_soln2(x1,5.0)\\n\\nplt.plot(x1,sol1,'r-',label='non-lin. t=0.1',linewidth=2)\\nplt.plot(x1,sol2,'r--',label='lin. t=0.1',linewidth=2)\\nplt.plot(x1,sol3,'g-',label='non-lin. t=5.0',linewidth=2)\\nplt.plot(x1,sol4,'g--',label='lin. t=5.0',linewidth=2)\\nplt.legend()\\nplt.axis([-10, 10, 0, 12])\\n\""
       ]
      }
     ],
     "prompt_number": 102
    },
    {
     "cell_type": "markdown",
     "metadata": {},
     "source": [
      "The following is speculative: \n",
      "\n",
      "For this solution to be a fundamental one, it has to satisfy two conditions: 1) $F \\rightarrow 0$ as $|x| \\rightarrow \\infty$ and 2) $\\int_{-\\infty}^{\\infty} F(x,t)\\, dx=1 \\text{ for all } t$. Apparently F(x,t) with does not converge to 0 or does so much more slowly than $F_{lin}(x,t)=\\frac{1}{2\\sqrt{\\pi\\,t}} e^{-x^{2}/4t}$. Also it is obvious that our $F(x,t)$ does not satisfy the condition 2). Those conditions will let us determine the values of $k_{1}$ and $A$. Of course, finding them in a closed form seems very complicated, if possible in the first place, because it involves integration of Airy functions and their derivatives.\n",
      "\n",
      "However, once we find $k_{1}$ and $A$ and fully define $F(x,t)$ as the fundamental solution for our non-linear equation with impulse load, the procedure to find a solution to a generic initial and boundary value problem is the same with that of the linear 1D diffusion equation. For instance, recall how we acquired the error function solution for the semi-infinite space: Green's function that satisfies the boundary condition, $u=0$ at $x=0$ was acquired by assuming a negative image source."
     ]
    }
   ],
   "metadata": {}
  }
 ]
}